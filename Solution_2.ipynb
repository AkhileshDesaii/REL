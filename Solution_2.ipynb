{
 "cells": [
  {
   "cell_type": "code",
   "execution_count": 1,
   "id": "38d7ef41",
   "metadata": {},
   "outputs": [],
   "source": [
    "#importing libraries\n",
    "import numpy as np\n",
    "import pandas as pd\n",
    "import seaborn as sns\n",
    "import matplotlib.pyplot as plt"
   ]
  },
  {
   "cell_type": "code",
   "execution_count": 2,
   "id": "e58889d4",
   "metadata": {},
   "outputs": [],
   "source": [
    "#importing data\n",
    "df = pd.read_csv(r\"C:\\Users\\user\\Dropbox\\PC\\Desktop\\Machine Learning\\Relecura\\dataset_2.csv\")"
   ]
  },
  {
   "cell_type": "code",
   "execution_count": 3,
   "id": "75e1bda9",
   "metadata": {},
   "outputs": [
    {
     "data": {
      "text/html": [
       "<div>\n",
       "<style scoped>\n",
       "    .dataframe tbody tr th:only-of-type {\n",
       "        vertical-align: middle;\n",
       "    }\n",
       "\n",
       "    .dataframe tbody tr th {\n",
       "        vertical-align: top;\n",
       "    }\n",
       "\n",
       "    .dataframe thead th {\n",
       "        text-align: right;\n",
       "    }\n",
       "</style>\n",
       "<table border=\"1\" class=\"dataframe\">\n",
       "  <thead>\n",
       "    <tr style=\"text-align: right;\">\n",
       "      <th></th>\n",
       "      <th>Id</th>\n",
       "      <th>Feature_1</th>\n",
       "      <th>Feature_2</th>\n",
       "      <th>Feature_3</th>\n",
       "      <th>Feature_4</th>\n",
       "      <th>Feature_5</th>\n",
       "      <th>Feature_6</th>\n",
       "      <th>Target</th>\n",
       "    </tr>\n",
       "  </thead>\n",
       "  <tbody>\n",
       "    <tr>\n",
       "      <th>0</th>\n",
       "      <td>1</td>\n",
       "      <td>6.1</td>\n",
       "      <td>4</td>\n",
       "      <td>4.4</td>\n",
       "      <td>4.2</td>\n",
       "      <td>0</td>\n",
       "      <td>5.5</td>\n",
       "      <td>Class_1</td>\n",
       "    </tr>\n",
       "    <tr>\n",
       "      <th>1</th>\n",
       "      <td>2</td>\n",
       "      <td>5.9</td>\n",
       "      <td>1</td>\n",
       "      <td>4.4</td>\n",
       "      <td>4.2</td>\n",
       "      <td>3</td>\n",
       "      <td>5.0</td>\n",
       "      <td>Class_1</td>\n",
       "    </tr>\n",
       "    <tr>\n",
       "      <th>2</th>\n",
       "      <td>3</td>\n",
       "      <td>5.7</td>\n",
       "      <td>4</td>\n",
       "      <td>4.3</td>\n",
       "      <td>4.2</td>\n",
       "      <td>2</td>\n",
       "      <td>5.2</td>\n",
       "      <td>Class_1</td>\n",
       "    </tr>\n",
       "    <tr>\n",
       "      <th>3</th>\n",
       "      <td>4</td>\n",
       "      <td>5.6</td>\n",
       "      <td>2</td>\n",
       "      <td>4.5</td>\n",
       "      <td>4.2</td>\n",
       "      <td>0</td>\n",
       "      <td>5.1</td>\n",
       "      <td>Class_1</td>\n",
       "    </tr>\n",
       "    <tr>\n",
       "      <th>4</th>\n",
       "      <td>5</td>\n",
       "      <td>6.0</td>\n",
       "      <td>5</td>\n",
       "      <td>4.4</td>\n",
       "      <td>4.2</td>\n",
       "      <td>1</td>\n",
       "      <td>5.6</td>\n",
       "      <td>Class_1</td>\n",
       "    </tr>\n",
       "  </tbody>\n",
       "</table>\n",
       "</div>"
      ],
      "text/plain": [
       "   Id  Feature_1  Feature_2  Feature_3  Feature_4  Feature_5  Feature_6  \\\n",
       "0   1        6.1          4        4.4        4.2          0        5.5   \n",
       "1   2        5.9          1        4.4        4.2          3        5.0   \n",
       "2   3        5.7          4        4.3        4.2          2        5.2   \n",
       "3   4        5.6          2        4.5        4.2          0        5.1   \n",
       "4   5        6.0          5        4.4        4.2          1        5.6   \n",
       "\n",
       "    Target  \n",
       "0  Class_1  \n",
       "1  Class_1  \n",
       "2  Class_1  \n",
       "3  Class_1  \n",
       "4  Class_1  "
      ]
     },
     "execution_count": 3,
     "metadata": {},
     "output_type": "execute_result"
    }
   ],
   "source": [
    "df.head()"
   ]
  },
  {
   "cell_type": "code",
   "execution_count": 4,
   "id": "55bc1d98",
   "metadata": {},
   "outputs": [
    {
     "data": {
      "text/plain": [
       "(150, 8)"
      ]
     },
     "execution_count": 4,
     "metadata": {},
     "output_type": "execute_result"
    }
   ],
   "source": [
    "df.shape"
   ]
  },
  {
   "cell_type": "code",
   "execution_count": 5,
   "id": "45ad0840",
   "metadata": {},
   "outputs": [
    {
     "name": "stdout",
     "output_type": "stream",
     "text": [
      "<class 'pandas.core.frame.DataFrame'>\n",
      "RangeIndex: 150 entries, 0 to 149\n",
      "Data columns (total 8 columns):\n",
      " #   Column     Non-Null Count  Dtype  \n",
      "---  ------     --------------  -----  \n",
      " 0   Id         150 non-null    int64  \n",
      " 1   Feature_1  150 non-null    float64\n",
      " 2   Feature_2  150 non-null    int64  \n",
      " 3   Feature_3  150 non-null    float64\n",
      " 4   Feature_4  150 non-null    float64\n",
      " 5   Feature_5  150 non-null    int64  \n",
      " 6   Feature_6  150 non-null    float64\n",
      " 7   Target     150 non-null    object \n",
      "dtypes: float64(4), int64(3), object(1)\n",
      "memory usage: 9.5+ KB\n"
     ]
    }
   ],
   "source": [
    "#checking for null values\n",
    "df.info()"
   ]
  },
  {
   "cell_type": "code",
   "execution_count": 6,
   "id": "4df5e7f7",
   "metadata": {},
   "outputs": [
    {
     "data": {
      "text/html": [
       "<div>\n",
       "<style scoped>\n",
       "    .dataframe tbody tr th:only-of-type {\n",
       "        vertical-align: middle;\n",
       "    }\n",
       "\n",
       "    .dataframe tbody tr th {\n",
       "        vertical-align: top;\n",
       "    }\n",
       "\n",
       "    .dataframe thead th {\n",
       "        text-align: right;\n",
       "    }\n",
       "</style>\n",
       "<table border=\"1\" class=\"dataframe\">\n",
       "  <thead>\n",
       "    <tr style=\"text-align: right;\">\n",
       "      <th></th>\n",
       "      <th>Id</th>\n",
       "      <th>Feature_1</th>\n",
       "      <th>Feature_2</th>\n",
       "      <th>Feature_3</th>\n",
       "      <th>Feature_4</th>\n",
       "      <th>Feature_5</th>\n",
       "      <th>Feature_6</th>\n",
       "      <th>Target</th>\n",
       "    </tr>\n",
       "  </thead>\n",
       "  <tbody>\n",
       "    <tr>\n",
       "      <th>0</th>\n",
       "      <td>False</td>\n",
       "      <td>False</td>\n",
       "      <td>False</td>\n",
       "      <td>False</td>\n",
       "      <td>False</td>\n",
       "      <td>False</td>\n",
       "      <td>False</td>\n",
       "      <td>False</td>\n",
       "    </tr>\n",
       "    <tr>\n",
       "      <th>1</th>\n",
       "      <td>False</td>\n",
       "      <td>False</td>\n",
       "      <td>False</td>\n",
       "      <td>False</td>\n",
       "      <td>False</td>\n",
       "      <td>False</td>\n",
       "      <td>False</td>\n",
       "      <td>False</td>\n",
       "    </tr>\n",
       "    <tr>\n",
       "      <th>2</th>\n",
       "      <td>False</td>\n",
       "      <td>False</td>\n",
       "      <td>False</td>\n",
       "      <td>False</td>\n",
       "      <td>False</td>\n",
       "      <td>False</td>\n",
       "      <td>False</td>\n",
       "      <td>False</td>\n",
       "    </tr>\n",
       "    <tr>\n",
       "      <th>3</th>\n",
       "      <td>False</td>\n",
       "      <td>False</td>\n",
       "      <td>False</td>\n",
       "      <td>False</td>\n",
       "      <td>False</td>\n",
       "      <td>False</td>\n",
       "      <td>False</td>\n",
       "      <td>False</td>\n",
       "    </tr>\n",
       "    <tr>\n",
       "      <th>4</th>\n",
       "      <td>False</td>\n",
       "      <td>False</td>\n",
       "      <td>False</td>\n",
       "      <td>False</td>\n",
       "      <td>False</td>\n",
       "      <td>False</td>\n",
       "      <td>False</td>\n",
       "      <td>False</td>\n",
       "    </tr>\n",
       "    <tr>\n",
       "      <th>...</th>\n",
       "      <td>...</td>\n",
       "      <td>...</td>\n",
       "      <td>...</td>\n",
       "      <td>...</td>\n",
       "      <td>...</td>\n",
       "      <td>...</td>\n",
       "      <td>...</td>\n",
       "      <td>...</td>\n",
       "    </tr>\n",
       "    <tr>\n",
       "      <th>145</th>\n",
       "      <td>False</td>\n",
       "      <td>False</td>\n",
       "      <td>False</td>\n",
       "      <td>False</td>\n",
       "      <td>False</td>\n",
       "      <td>False</td>\n",
       "      <td>False</td>\n",
       "      <td>False</td>\n",
       "    </tr>\n",
       "    <tr>\n",
       "      <th>146</th>\n",
       "      <td>False</td>\n",
       "      <td>False</td>\n",
       "      <td>False</td>\n",
       "      <td>False</td>\n",
       "      <td>False</td>\n",
       "      <td>False</td>\n",
       "      <td>False</td>\n",
       "      <td>False</td>\n",
       "    </tr>\n",
       "    <tr>\n",
       "      <th>147</th>\n",
       "      <td>False</td>\n",
       "      <td>False</td>\n",
       "      <td>False</td>\n",
       "      <td>False</td>\n",
       "      <td>False</td>\n",
       "      <td>False</td>\n",
       "      <td>False</td>\n",
       "      <td>False</td>\n",
       "    </tr>\n",
       "    <tr>\n",
       "      <th>148</th>\n",
       "      <td>False</td>\n",
       "      <td>False</td>\n",
       "      <td>False</td>\n",
       "      <td>False</td>\n",
       "      <td>False</td>\n",
       "      <td>False</td>\n",
       "      <td>False</td>\n",
       "      <td>False</td>\n",
       "    </tr>\n",
       "    <tr>\n",
       "      <th>149</th>\n",
       "      <td>False</td>\n",
       "      <td>False</td>\n",
       "      <td>False</td>\n",
       "      <td>False</td>\n",
       "      <td>False</td>\n",
       "      <td>False</td>\n",
       "      <td>False</td>\n",
       "      <td>False</td>\n",
       "    </tr>\n",
       "  </tbody>\n",
       "</table>\n",
       "<p>150 rows × 8 columns</p>\n",
       "</div>"
      ],
      "text/plain": [
       "        Id  Feature_1  Feature_2  Feature_3  Feature_4  Feature_5  Feature_6  \\\n",
       "0    False      False      False      False      False      False      False   \n",
       "1    False      False      False      False      False      False      False   \n",
       "2    False      False      False      False      False      False      False   \n",
       "3    False      False      False      False      False      False      False   \n",
       "4    False      False      False      False      False      False      False   \n",
       "..     ...        ...        ...        ...        ...        ...        ...   \n",
       "145  False      False      False      False      False      False      False   \n",
       "146  False      False      False      False      False      False      False   \n",
       "147  False      False      False      False      False      False      False   \n",
       "148  False      False      False      False      False      False      False   \n",
       "149  False      False      False      False      False      False      False   \n",
       "\n",
       "     Target  \n",
       "0     False  \n",
       "1     False  \n",
       "2     False  \n",
       "3     False  \n",
       "4     False  \n",
       "..      ...  \n",
       "145   False  \n",
       "146   False  \n",
       "147   False  \n",
       "148   False  \n",
       "149   False  \n",
       "\n",
       "[150 rows x 8 columns]"
      ]
     },
     "execution_count": 6,
     "metadata": {},
     "output_type": "execute_result"
    }
   ],
   "source": [
    "df.isnull()"
   ]
  },
  {
   "cell_type": "markdown",
   "id": "9fd964ac",
   "metadata": {},
   "source": [
    "# there is no null vales "
   ]
  },
  {
   "cell_type": "code",
   "execution_count": null,
   "id": "7bc1cf56",
   "metadata": {},
   "outputs": [],
   "source": []
  },
  {
   "cell_type": "markdown",
   "id": "8eac9544",
   "metadata": {},
   "source": [
    "# EDA"
   ]
  },
  {
   "cell_type": "code",
   "execution_count": 7,
   "id": "7d6cb0c5",
   "metadata": {},
   "outputs": [
    {
     "data": {
      "text/html": [
       "<div>\n",
       "<style scoped>\n",
       "    .dataframe tbody tr th:only-of-type {\n",
       "        vertical-align: middle;\n",
       "    }\n",
       "\n",
       "    .dataframe tbody tr th {\n",
       "        vertical-align: top;\n",
       "    }\n",
       "\n",
       "    .dataframe thead th {\n",
       "        text-align: right;\n",
       "    }\n",
       "</style>\n",
       "<table border=\"1\" class=\"dataframe\">\n",
       "  <thead>\n",
       "    <tr style=\"text-align: right;\">\n",
       "      <th></th>\n",
       "      <th>Id</th>\n",
       "      <th>Feature_1</th>\n",
       "      <th>Feature_2</th>\n",
       "      <th>Feature_3</th>\n",
       "      <th>Feature_4</th>\n",
       "      <th>Feature_5</th>\n",
       "      <th>Feature_6</th>\n",
       "    </tr>\n",
       "  </thead>\n",
       "  <tbody>\n",
       "    <tr>\n",
       "      <th>count</th>\n",
       "      <td>150.000000</td>\n",
       "      <td>150.000000</td>\n",
       "      <td>150.000000</td>\n",
       "      <td>150.000000</td>\n",
       "      <td>150.000000</td>\n",
       "      <td>150.000000</td>\n",
       "      <td>150.000000</td>\n",
       "    </tr>\n",
       "    <tr>\n",
       "      <th>mean</th>\n",
       "      <td>75.500000</td>\n",
       "      <td>6.843333</td>\n",
       "      <td>2.453333</td>\n",
       "      <td>6.758667</td>\n",
       "      <td>5.198667</td>\n",
       "      <td>2.426667</td>\n",
       "      <td>5.054000</td>\n",
       "    </tr>\n",
       "    <tr>\n",
       "      <th>std</th>\n",
       "      <td>43.445368</td>\n",
       "      <td>0.828066</td>\n",
       "      <td>1.759296</td>\n",
       "      <td>1.764420</td>\n",
       "      <td>0.763161</td>\n",
       "      <td>1.676312</td>\n",
       "      <td>0.433594</td>\n",
       "    </tr>\n",
       "    <tr>\n",
       "      <th>min</th>\n",
       "      <td>1.000000</td>\n",
       "      <td>5.300000</td>\n",
       "      <td>0.000000</td>\n",
       "      <td>4.000000</td>\n",
       "      <td>4.100000</td>\n",
       "      <td>0.000000</td>\n",
       "      <td>4.000000</td>\n",
       "    </tr>\n",
       "    <tr>\n",
       "      <th>25%</th>\n",
       "      <td>38.250000</td>\n",
       "      <td>6.100000</td>\n",
       "      <td>1.000000</td>\n",
       "      <td>4.600000</td>\n",
       "      <td>4.300000</td>\n",
       "      <td>1.000000</td>\n",
       "      <td>4.800000</td>\n",
       "    </tr>\n",
       "    <tr>\n",
       "      <th>50%</th>\n",
       "      <td>75.500000</td>\n",
       "      <td>6.800000</td>\n",
       "      <td>2.000000</td>\n",
       "      <td>7.350000</td>\n",
       "      <td>5.300000</td>\n",
       "      <td>2.000000</td>\n",
       "      <td>5.000000</td>\n",
       "    </tr>\n",
       "    <tr>\n",
       "      <th>75%</th>\n",
       "      <td>112.750000</td>\n",
       "      <td>7.400000</td>\n",
       "      <td>4.000000</td>\n",
       "      <td>8.100000</td>\n",
       "      <td>5.800000</td>\n",
       "      <td>4.000000</td>\n",
       "      <td>5.300000</td>\n",
       "    </tr>\n",
       "    <tr>\n",
       "      <th>max</th>\n",
       "      <td>150.000000</td>\n",
       "      <td>8.900000</td>\n",
       "      <td>5.000000</td>\n",
       "      <td>9.900000</td>\n",
       "      <td>6.500000</td>\n",
       "      <td>5.000000</td>\n",
       "      <td>6.400000</td>\n",
       "    </tr>\n",
       "  </tbody>\n",
       "</table>\n",
       "</div>"
      ],
      "text/plain": [
       "               Id   Feature_1   Feature_2   Feature_3   Feature_4   Feature_5  \\\n",
       "count  150.000000  150.000000  150.000000  150.000000  150.000000  150.000000   \n",
       "mean    75.500000    6.843333    2.453333    6.758667    5.198667    2.426667   \n",
       "std     43.445368    0.828066    1.759296    1.764420    0.763161    1.676312   \n",
       "min      1.000000    5.300000    0.000000    4.000000    4.100000    0.000000   \n",
       "25%     38.250000    6.100000    1.000000    4.600000    4.300000    1.000000   \n",
       "50%     75.500000    6.800000    2.000000    7.350000    5.300000    2.000000   \n",
       "75%    112.750000    7.400000    4.000000    8.100000    5.800000    4.000000   \n",
       "max    150.000000    8.900000    5.000000    9.900000    6.500000    5.000000   \n",
       "\n",
       "        Feature_6  \n",
       "count  150.000000  \n",
       "mean     5.054000  \n",
       "std      0.433594  \n",
       "min      4.000000  \n",
       "25%      4.800000  \n",
       "50%      5.000000  \n",
       "75%      5.300000  \n",
       "max      6.400000  "
      ]
     },
     "execution_count": 7,
     "metadata": {},
     "output_type": "execute_result"
    }
   ],
   "source": [
    "df.describe()"
   ]
  },
  {
   "cell_type": "code",
   "execution_count": 8,
   "id": "396efd39",
   "metadata": {},
   "outputs": [
    {
     "data": {
      "text/plain": [
       "Index(['Id', 'Feature_1', 'Feature_2', 'Feature_3', 'Feature_4', 'Feature_5',\n",
       "       'Feature_6', 'Target'],\n",
       "      dtype='object')"
      ]
     },
     "execution_count": 8,
     "metadata": {},
     "output_type": "execute_result"
    }
   ],
   "source": [
    "df.columns"
   ]
  },
  {
   "cell_type": "code",
   "execution_count": 9,
   "id": "5c8ce836",
   "metadata": {},
   "outputs": [
    {
     "data": {
      "image/png": "[encoded data removed]",
      "text/plain": [
       "<Figure size 432x432 with 3 Axes>"
      ]
     },
     "metadata": {
      "needs_background": "light"
     },
     "output_type": "display_data"
    },
    {
     "data": {
      "image/png": "[encoded data removed]",
      "text/plain": [
       "<Figure size 432x432 with 3 Axes>"
      ]
     },
     "metadata": {
      "needs_background": "light"
     },
     "output_type": "display_data"
    },
    {
     "data": {
      "image/png": "[encoded data removed]",
      "text/plain": [
       "<Figure size 432x432 with 3 Axes>"
      ]
     },
     "metadata": {
      "needs_background": "light"
     },
     "output_type": "display_data"
    }
   ],
   "source": [
    "d1 = sns.jointplot(data=df, x='Target', y='Feature_1')\n",
    "d2 = sns.jointplot(data=df, x='Target', y='Feature_2')\n",
    "d3 = sns.jointplot(data=df, x='Target', y='Feature_3')"
   ]
  },
  {
   "cell_type": "code",
   "execution_count": 10,
   "id": "67262cf1",
   "metadata": {},
   "outputs": [
    {
     "data": {
      "image/png": "[encoded data removed]",
      "text/plain": [
       "<Figure size 432x432 with 3 Axes>"
      ]
     },
     "metadata": {
      "needs_background": "light"
     },
     "output_type": "display_data"
    },
    {
     "data": {
      "image/png": "[encoded data removed]",
      "text/plain": [
       "<Figure size 432x432 with 3 Axes>"
      ]
     },
     "metadata": {
      "needs_background": "light"
     },
     "output_type": "display_data"
    },
    {
     "data": {
      "image/png": "[encoded data removed]",
      "text/plain": [
       "<Figure size 432x432 with 3 Axes>"
      ]
     },
     "metadata": {
      "needs_background": "light"
     },
     "output_type": "display_data"
    }
   ],
   "source": [
    "d4 = sns.jointplot(data=df, x='Target', y='Feature_4')\n",
    "d5 = sns.jointplot(data=df, x='Target', y='Feature_5')\n",
    "d6 = sns.jointplot(data=df, x='Target', y='Feature_6')"
   ]
  },
  {
   "cell_type": "code",
   "execution_count": 11,
   "id": "9f70eafa",
   "metadata": {},
   "outputs": [
    {
     "data": {
      "image/png": "[encoded data removed]",
      "text/plain": [
       "<Figure size 432x288 with 1 Axes>"
      ]
     },
     "metadata": {
      "needs_background": "light"
     },
     "output_type": "display_data"
    }
   ],
   "source": [
    "plt.title('Target', fontsize=20)\n",
    "hist1 = sns.histplot(df.Feature_1)"
   ]
  },
  {
   "cell_type": "code",
   "execution_count": 12,
   "id": "9b229ab8",
   "metadata": {},
   "outputs": [
    {
     "data": {
      "image/png": "[encoded data removed]",
      "text/plain": [
       "<Figure size 432x288 with 1 Axes>"
      ]
     },
     "metadata": {
      "needs_background": "light"
     },
     "output_type": "display_data"
    }
   ],
   "source": [
    "plt.title('Target', fontsize=20)\n",
    "hist2 = sns.histplot(df.Feature_2)"
   ]
  },
  {
   "cell_type": "code",
   "execution_count": 13,
   "id": "dc18b181",
   "metadata": {},
   "outputs": [
    {
     "data": {
      "image/png": "[encoded data removed]",
      "text/plain": [
       "<Figure size 432x288 with 1 Axes>"
      ]
     },
     "metadata": {
      "needs_background": "light"
     },
     "output_type": "display_data"
    }
   ],
   "source": [
    "plt.title('Target', fontsize=20)\n",
    "hist3 = sns.histplot(df.Feature_3)"
   ]
  },
  {
   "cell_type": "code",
   "execution_count": 14,
   "id": "79df40eb",
   "metadata": {},
   "outputs": [
    {
     "data": {
      "image/png": "[encoded data removed]",
      "text/plain": [
       "<Figure size 432x288 with 1 Axes>"
      ]
     },
     "metadata": {
      "needs_background": "light"
     },
     "output_type": "display_data"
    }
   ],
   "source": [
    "plt.title('Target', fontsize=20)\n",
    "hist4 = sns.histplot(df.Feature_4)"
   ]
  },
  {
   "cell_type": "code",
   "execution_count": 15,
   "id": "77345585",
   "metadata": {},
   "outputs": [
    {
     "data": {
      "image/png": "[encoded data removed]",
      "text/plain": [
       "<Figure size 432x288 with 1 Axes>"
      ]
     },
     "metadata": {
      "needs_background": "light"
     },
     "output_type": "display_data"
    }
   ],
   "source": [
    "plt.title('Target', fontsize=20)\n",
    "hist5 = sns.histplot(df.Feature_5)"
   ]
  },
  {
   "cell_type": "code",
   "execution_count": 16,
   "id": "16b35b77",
   "metadata": {},
   "outputs": [
    {
     "data": {
      "image/png": "[encoded data removed]",
      "text/plain": [
       "<Figure size 432x288 with 1 Axes>"
      ]
     },
     "metadata": {
      "needs_background": "light"
     },
     "output_type": "display_data"
    }
   ],
   "source": [
    "plt.title('Target', fontsize=20)\n",
    "hist5 = sns.histplot(df.Feature_6)"
   ]
  },
  {
   "cell_type": "code",
   "execution_count": 17,
   "id": "f9cdce1e",
   "metadata": {},
   "outputs": [
    {
     "data": {
      "image/png": "[encoded data removed]",
      "text/plain": [
       "<Figure size 1440x720 with 1 Axes>"
      ]
     },
     "metadata": {
      "needs_background": "light"
     },
     "output_type": "display_data"
    }
   ],
   "source": [
    "df.plot(kind='box',figsize=(20,10))\n",
    "plt.show()"
   ]
  },
  {
   "cell_type": "code",
   "execution_count": 18,
   "id": "f35d636d",
   "metadata": {},
   "outputs": [
    {
     "data": {
      "image/png": "[encoded data removed]",
      "text/plain": [
       "<Figure size 648x360 with 2 Axes>"
      ]
     },
     "metadata": {},
     "output_type": "display_data"
    }
   ],
   "source": [
    "sns.set(rc={'figure.figsize':(9,5)})\n",
    "sns.heatmap(df.corr(),annot=True)\n",
    "plt.xticks(fontsize=12,color='k',fontweight='bold')\n",
    "plt.yticks(fontsize=12,color='k',fontweight='bold')\n",
    "plt.show()"
   ]
  },
  {
   "cell_type": "code",
   "execution_count": 19,
   "id": "344d256c",
   "metadata": {},
   "outputs": [
    {
     "data": {
      "text/html": [
       "<div>\n",
       "<style scoped>\n",
       "    .dataframe tbody tr th:only-of-type {\n",
       "        vertical-align: middle;\n",
       "    }\n",
       "\n",
       "    .dataframe tbody tr th {\n",
       "        vertical-align: top;\n",
       "    }\n",
       "\n",
       "    .dataframe thead th {\n",
       "        text-align: right;\n",
       "    }\n",
       "</style>\n",
       "<table border=\"1\" class=\"dataframe\">\n",
       "  <thead>\n",
       "    <tr style=\"text-align: right;\">\n",
       "      <th></th>\n",
       "      <th>Id</th>\n",
       "      <th>Feature_1</th>\n",
       "      <th>Feature_2</th>\n",
       "      <th>Feature_3</th>\n",
       "      <th>Feature_4</th>\n",
       "      <th>Feature_5</th>\n",
       "      <th>Feature_6</th>\n",
       "    </tr>\n",
       "  </thead>\n",
       "  <tbody>\n",
       "    <tr>\n",
       "      <th>Id</th>\n",
       "      <td>1.000000</td>\n",
       "      <td>0.716676</td>\n",
       "      <td>0.101505</td>\n",
       "      <td>0.882747</td>\n",
       "      <td>0.899759</td>\n",
       "      <td>-0.128924</td>\n",
       "      <td>-0.397729</td>\n",
       "    </tr>\n",
       "    <tr>\n",
       "      <th>Feature_1</th>\n",
       "      <td>0.716676</td>\n",
       "      <td>1.000000</td>\n",
       "      <td>0.162870</td>\n",
       "      <td>0.871754</td>\n",
       "      <td>0.817954</td>\n",
       "      <td>-0.158942</td>\n",
       "      <td>-0.109369</td>\n",
       "    </tr>\n",
       "    <tr>\n",
       "      <th>Feature_2</th>\n",
       "      <td>0.101505</td>\n",
       "      <td>0.162870</td>\n",
       "      <td>1.000000</td>\n",
       "      <td>0.202610</td>\n",
       "      <td>0.162412</td>\n",
       "      <td>-0.061475</td>\n",
       "      <td>-0.117649</td>\n",
       "    </tr>\n",
       "    <tr>\n",
       "      <th>Feature_3</th>\n",
       "      <td>0.882747</td>\n",
       "      <td>0.871754</td>\n",
       "      <td>0.202610</td>\n",
       "      <td>1.000000</td>\n",
       "      <td>0.962757</td>\n",
       "      <td>-0.132414</td>\n",
       "      <td>-0.420516</td>\n",
       "    </tr>\n",
       "    <tr>\n",
       "      <th>Feature_4</th>\n",
       "      <td>0.899759</td>\n",
       "      <td>0.817954</td>\n",
       "      <td>0.162412</td>\n",
       "      <td>0.962757</td>\n",
       "      <td>1.000000</td>\n",
       "      <td>-0.131231</td>\n",
       "      <td>-0.356544</td>\n",
       "    </tr>\n",
       "    <tr>\n",
       "      <th>Feature_5</th>\n",
       "      <td>-0.128924</td>\n",
       "      <td>-0.158942</td>\n",
       "      <td>-0.061475</td>\n",
       "      <td>-0.132414</td>\n",
       "      <td>-0.131231</td>\n",
       "      <td>1.000000</td>\n",
       "      <td>-0.013444</td>\n",
       "    </tr>\n",
       "    <tr>\n",
       "      <th>Feature_6</th>\n",
       "      <td>-0.397729</td>\n",
       "      <td>-0.109369</td>\n",
       "      <td>-0.117649</td>\n",
       "      <td>-0.420516</td>\n",
       "      <td>-0.356544</td>\n",
       "      <td>-0.013444</td>\n",
       "      <td>1.000000</td>\n",
       "    </tr>\n",
       "  </tbody>\n",
       "</table>\n",
       "</div>"
      ],
      "text/plain": [
       "                 Id  Feature_1  Feature_2  Feature_3  Feature_4  Feature_5  \\\n",
       "Id         1.000000   0.716676   0.101505   0.882747   0.899759  -0.128924   \n",
       "Feature_1  0.716676   1.000000   0.162870   0.871754   0.817954  -0.158942   \n",
       "Feature_2  0.101505   0.162870   1.000000   0.202610   0.162412  -0.061475   \n",
       "Feature_3  0.882747   0.871754   0.202610   1.000000   0.962757  -0.132414   \n",
       "Feature_4  0.899759   0.817954   0.162412   0.962757   1.000000  -0.131231   \n",
       "Feature_5 -0.128924  -0.158942  -0.061475  -0.132414  -0.131231   1.000000   \n",
       "Feature_6 -0.397729  -0.109369  -0.117649  -0.420516  -0.356544  -0.013444   \n",
       "\n",
       "           Feature_6  \n",
       "Id         -0.397729  \n",
       "Feature_1  -0.109369  \n",
       "Feature_2  -0.117649  \n",
       "Feature_3  -0.420516  \n",
       "Feature_4  -0.356544  \n",
       "Feature_5  -0.013444  \n",
       "Feature_6   1.000000  "
      ]
     },
     "execution_count": 19,
     "metadata": {},
     "output_type": "execute_result"
    }
   ],
   "source": [
    "df.corr()"
   ]
  },
  {
   "cell_type": "code",
   "execution_count": 20,
   "id": "8a87d867",
   "metadata": {},
   "outputs": [],
   "source": [
    "#seperating X and y\n",
    "X = df.iloc[:,:-1].values\n",
    "y = df.iloc[:,-1].values"
   ]
  },
  {
   "cell_type": "code",
   "execution_count": 21,
   "id": "bce5f76a",
   "metadata": {},
   "outputs": [],
   "source": [
    "from sklearn import tree"
   ]
  },
  {
   "cell_type": "code",
   "execution_count": 22,
   "id": "60033644",
   "metadata": {},
   "outputs": [],
   "source": [
    "from sklearn.tree import DecisionTreeClassifier\n",
    "clftree = tree.DecisionTreeClassifier(max_depth = 3)\n",
    "from sklearn.metrics import accuracy_score,f1_score,precision_score,recall_score\n",
    "from sklearn.model_selection import train_test_split,cross_val_score,RandomizedSearchCV"
   ]
  },
  {
   "cell_type": "code",
   "execution_count": 23,
   "id": "a8505982",
   "metadata": {},
   "outputs": [],
   "source": [
    "#splitting into train and test 80:20\n",
    "X_train,X_test,y_train,y_test = train_test_split(X,y,test_size = 0.2,random_state = 0)"
   ]
  },
  {
   "cell_type": "code",
   "execution_count": 24,
   "id": "3307f6ba",
   "metadata": {},
   "outputs": [
    {
     "data": {
      "text/html": [
       "<div>\n",
       "<style scoped>\n",
       "    .dataframe tbody tr th:only-of-type {\n",
       "        vertical-align: middle;\n",
       "    }\n",
       "\n",
       "    .dataframe tbody tr th {\n",
       "        vertical-align: top;\n",
       "    }\n",
       "\n",
       "    .dataframe thead th {\n",
       "        text-align: right;\n",
       "    }\n",
       "</style>\n",
       "<table border=\"1\" class=\"dataframe\">\n",
       "  <thead>\n",
       "    <tr style=\"text-align: right;\">\n",
       "      <th></th>\n",
       "      <th>Id</th>\n",
       "      <th>Feature_1</th>\n",
       "      <th>Feature_2</th>\n",
       "      <th>Feature_3</th>\n",
       "      <th>Feature_4</th>\n",
       "      <th>Feature_5</th>\n",
       "      <th>Feature_6</th>\n",
       "    </tr>\n",
       "  </thead>\n",
       "  <tbody>\n",
       "    <tr>\n",
       "      <th>count</th>\n",
       "      <td>150.000000</td>\n",
       "      <td>150.000000</td>\n",
       "      <td>150.000000</td>\n",
       "      <td>150.000000</td>\n",
       "      <td>150.000000</td>\n",
       "      <td>150.000000</td>\n",
       "      <td>150.000000</td>\n",
       "    </tr>\n",
       "    <tr>\n",
       "      <th>mean</th>\n",
       "      <td>75.500000</td>\n",
       "      <td>6.843333</td>\n",
       "      <td>2.453333</td>\n",
       "      <td>6.758667</td>\n",
       "      <td>5.198667</td>\n",
       "      <td>2.426667</td>\n",
       "      <td>5.054000</td>\n",
       "    </tr>\n",
       "    <tr>\n",
       "      <th>std</th>\n",
       "      <td>43.445368</td>\n",
       "      <td>0.828066</td>\n",
       "      <td>1.759296</td>\n",
       "      <td>1.764420</td>\n",
       "      <td>0.763161</td>\n",
       "      <td>1.676312</td>\n",
       "      <td>0.433594</td>\n",
       "    </tr>\n",
       "    <tr>\n",
       "      <th>min</th>\n",
       "      <td>1.000000</td>\n",
       "      <td>5.300000</td>\n",
       "      <td>0.000000</td>\n",
       "      <td>4.000000</td>\n",
       "      <td>4.100000</td>\n",
       "      <td>0.000000</td>\n",
       "      <td>4.000000</td>\n",
       "    </tr>\n",
       "    <tr>\n",
       "      <th>25%</th>\n",
       "      <td>38.250000</td>\n",
       "      <td>6.100000</td>\n",
       "      <td>1.000000</td>\n",
       "      <td>4.600000</td>\n",
       "      <td>4.300000</td>\n",
       "      <td>1.000000</td>\n",
       "      <td>4.800000</td>\n",
       "    </tr>\n",
       "    <tr>\n",
       "      <th>50%</th>\n",
       "      <td>75.500000</td>\n",
       "      <td>6.800000</td>\n",
       "      <td>2.000000</td>\n",
       "      <td>7.350000</td>\n",
       "      <td>5.300000</td>\n",
       "      <td>2.000000</td>\n",
       "      <td>5.000000</td>\n",
       "    </tr>\n",
       "    <tr>\n",
       "      <th>75%</th>\n",
       "      <td>112.750000</td>\n",
       "      <td>7.400000</td>\n",
       "      <td>4.000000</td>\n",
       "      <td>8.100000</td>\n",
       "      <td>5.800000</td>\n",
       "      <td>4.000000</td>\n",
       "      <td>5.300000</td>\n",
       "    </tr>\n",
       "    <tr>\n",
       "      <th>max</th>\n",
       "      <td>150.000000</td>\n",
       "      <td>8.900000</td>\n",
       "      <td>5.000000</td>\n",
       "      <td>9.900000</td>\n",
       "      <td>6.500000</td>\n",
       "      <td>5.000000</td>\n",
       "      <td>6.400000</td>\n",
       "    </tr>\n",
       "  </tbody>\n",
       "</table>\n",
       "</div>"
      ],
      "text/plain": [
       "               Id   Feature_1   Feature_2   Feature_3   Feature_4   Feature_5  \\\n",
       "count  150.000000  150.000000  150.000000  150.000000  150.000000  150.000000   \n",
       "mean    75.500000    6.843333    2.453333    6.758667    5.198667    2.426667   \n",
       "std     43.445368    0.828066    1.759296    1.764420    0.763161    1.676312   \n",
       "min      1.000000    5.300000    0.000000    4.000000    4.100000    0.000000   \n",
       "25%     38.250000    6.100000    1.000000    4.600000    4.300000    1.000000   \n",
       "50%     75.500000    6.800000    2.000000    7.350000    5.300000    2.000000   \n",
       "75%    112.750000    7.400000    4.000000    8.100000    5.800000    4.000000   \n",
       "max    150.000000    8.900000    5.000000    9.900000    6.500000    5.000000   \n",
       "\n",
       "        Feature_6  \n",
       "count  150.000000  \n",
       "mean     5.054000  \n",
       "std      0.433594  \n",
       "min      4.000000  \n",
       "25%      4.800000  \n",
       "50%      5.000000  \n",
       "75%      5.300000  \n",
       "max      6.400000  "
      ]
     },
     "execution_count": 24,
     "metadata": {},
     "output_type": "execute_result"
    }
   ],
   "source": [
    "df.describe()"
   ]
  },
  {
   "cell_type": "code",
   "execution_count": null,
   "id": "5c0ca821",
   "metadata": {},
   "outputs": [],
   "source": []
  },
  {
   "cell_type": "markdown",
   "id": "b3741eb7",
   "metadata": {},
   "source": [
    "# Normalizing"
   ]
  },
  {
   "cell_type": "code",
   "execution_count": 25,
   "id": "8c1a555a",
   "metadata": {},
   "outputs": [],
   "source": [
    "from sklearn.preprocessing import StandardScaler\n",
    "std=StandardScaler()"
   ]
  },
  {
   "cell_type": "code",
   "execution_count": 26,
   "id": "5f9b444a",
   "metadata": {},
   "outputs": [],
   "source": [
    "X_train_std=std.fit_transform(X_train)\n",
    "X_test_std=std.transform(X_test)"
   ]
  },
  {
   "cell_type": "code",
   "execution_count": 27,
   "id": "05467c89",
   "metadata": {},
   "outputs": [
    {
     "data": {
      "text/plain": [
       "array([[ 1.34636602,  0.61303014,  0.31392496,  0.94751783,  0.73603967,\n",
       "        -0.18275003,  0.10850105],\n",
       "       [ 0.16184701, -0.56776627,  1.43843227,  0.38491447,  0.34808318,\n",
       "         1.59535841, -0.12400121],\n",
       "       [-1.11206965, -0.80392556, -1.37283601, -1.30289562, -1.3330616 ,\n",
       "        -0.77545285,  1.03851009],\n",
       "       [ 1.12287187,  0.25879121,  0.31392496,  0.60995581,  0.73603967,\n",
       "        -0.77545285, -0.12400121],\n",
       "       [ 1.23461894,  0.61303014, -0.2483287 ,  1.00377816,  1.25331499,\n",
       "         1.59535841, -0.58900572],\n",
       "       [-0.39688836, -0.80392556, -0.81058235,  0.04735245,  0.21876435,\n",
       "         0.40995278, -0.82150798],\n",
       "       [-1.31321439, -0.21352735,  0.87617861, -1.19037495, -1.20374277,\n",
       "        -0.77545285,  1.73601687],\n",
       "       [ 0.1394976 ,  0.14071157,  0.87617861,  0.72247648,  0.47740201,\n",
       "        -1.36815566, -0.82150798],\n",
       "       [-0.35218953,  0.02263193,  0.31392496,  0.21613346,  0.34808318,\n",
       "        -0.77545285, -0.12400121],\n",
       "       [ 0.34064234, -0.09544771, -0.2483287 ,  0.10361279, -0.03987331,\n",
       "         1.59535841, -1.05401024],\n",
       "       [ 0.78763064,  1.0853487 ,  1.43843227,  0.94751783,  1.12399616,\n",
       "        -0.18275003, -0.12400121],\n",
       "       [-1.67080503, -1.39432376,  0.87617861, -1.41541629, -1.3330616 ,\n",
       "        -0.18275003,  0.34100331],\n",
       "       [ 1.43576368,  1.20342834, -0.81058235,  0.72247648,  1.38263382,\n",
       "         0.40995278,  0.10850105],\n",
       "       [-0.75447901, -1.04008484, -0.2483287 , -1.24663528, -0.81578628,\n",
       "        -0.18275003,  1.03851009],\n",
       "       [-1.49200971, -0.56776627, -0.81058235, -1.30289562, -1.3330616 ,\n",
       "         0.40995278,  1.50351461],\n",
       "       [-0.37453895, -1.04008484,  0.87617861, -0.1776889 , -0.29851096,\n",
       "         1.59535841, -2.4490238 ],\n",
       "       [ 0.8770283 ,  0.73110978, -1.37283601,  0.94751783,  0.73603967,\n",
       "        -0.18275003, -0.12400121],\n",
       "       [ 1.50281193,  0.96726906, -0.81058235,  1.0600385 ,  1.64127148,\n",
       "         1.00265559,  0.57350557],\n",
       "       [ 0.94407655,  0.14071157,  0.31392496,  0.66621615,  0.34808318,\n",
       "         0.40995278, -1.98401928],\n",
       "       [ 0.69823298,  0.96726906,  1.43843227,  1.11629884,  0.73603967,\n",
       "        -0.18275003, -1.2865125 ],\n",
       "       [-0.17339421, -0.33160699,  1.43843227,  0.04735245, -0.16919214,\n",
       "         0.40995278, -1.2865125 ],\n",
       "       [ 1.30166719,  2.14806547, -0.81058235,  1.28507985,  1.38263382,\n",
       "        -0.18275003, -0.12400121],\n",
       "       [-0.46393661,  0.49495049, -0.2483287 ,  0.49743514,  0.47740201,\n",
       "         1.59535841,  0.57350557],\n",
       "       [ 0.07244935, -0.44968663, -0.81058235, -0.00890789, -0.16919214,\n",
       "         0.40995278, -1.51901476],\n",
       "       [ 1.03347421,  0.49495049,  1.43843227,  0.60995581,  0.73603967,\n",
       "        -0.18275003, -0.82150798],\n",
       "       [ 1.25696836,  0.49495049, -0.81058235,  0.72247648,  0.34808318,\n",
       "        -0.77545285, -0.58900572],\n",
       "       [ 0.65353415, -1.15816448, -1.37283601,  0.38491447,  0.60672084,\n",
       "         1.59535841, -1.2865125 ],\n",
       "       [ 1.54751076,  0.49495049,  0.87617861,  0.66621615,  0.8653585 ,\n",
       "        -1.36815566, -1.2865125 ],\n",
       "       [-0.5980331 ,  1.32150798, -0.81058235,  0.49743514,  0.21876435,\n",
       "         1.00265559,  0.34100331],\n",
       "       [ 1.56986017,  0.73110978, -1.37283601,  0.77873682,  0.99467733,\n",
       "        -0.77545285, -0.12400121],\n",
       "       [ 0.18419643,  0.14071157,  0.87617861,  0.38491447,  0.47740201,\n",
       "         0.40995278,  0.80600783],\n",
       "       [-1.0450214 , -1.27624412, -0.81058235, -1.24663528, -1.3330616 ,\n",
       "        -0.77545285,  0.10850105],\n",
       "       [ 0.54178707, -0.09544771,  1.43843227,  0.72247648,  0.8653585 ,\n",
       "        -0.77545285, -0.82150798],\n",
       "       [ 0.38534117, -0.33160699,  0.31392496,  0.21613346,  0.08944552,\n",
       "         1.59535841, -0.82150798],\n",
       "       [-0.28514129, -0.33160699,  0.31392496, -0.12142856,  0.08944552,\n",
       "        -0.18275003, -0.35650346],\n",
       "       [ 0.27359409, -0.44968663, -1.37283601,  0.10361279,  0.08944552,\n",
       "        -1.36815566, -1.2865125 ],\n",
       "       [ 0.31829292,  0.25879121, -0.81058235,  0.4411748 ,  0.21876435,\n",
       "        -1.36815566, -0.12400121],\n",
       "       [ 1.07817304,  1.55766726,  1.43843227,  1.22881951,  0.73603967,\n",
       "         0.40995278,  0.34100331],\n",
       "       [-0.64273193, -0.68584591,  1.43843227, -1.30289562, -1.3330616 ,\n",
       "        -0.18275003,  1.50351461],\n",
       "       [-1.42496146, -1.86664232,  0.31392496, -1.52793696, -1.46238043,\n",
       "         0.40995278, -0.12400121],\n",
       "       [ 0.76528122,  0.61303014,  1.43843227,  0.83499716,  0.8653585 ,\n",
       "        -0.77545285, -0.82150798],\n",
       "       [ 0.40769058, -0.21352735,  0.87617861,  0.21613346, -0.03987331,\n",
       "        -0.18275003, -0.12400121],\n",
       "       [-1.26851556, -0.56776627,  1.43843227, -1.19037495, -1.3330616 ,\n",
       "        -1.36815566,  0.80600783],\n",
       "       [-1.38026263, -0.21352735,  0.31392496, -1.30289562, -1.07442394,\n",
       "         1.00265559,  3.13103043],\n",
       "       [-0.55333427,  1.20342834, -0.2483287 ,  0.60995581,  0.34808318,\n",
       "        -1.36815566,  0.10850105],\n",
       "       [-1.64845561, -1.5124034 , -0.2483287 , -1.30289562, -1.3330616 ,\n",
       "        -1.36815566,  0.10850105],\n",
       "       [ 1.614559  ,  0.02263193, -1.37283601,  0.72247648,  0.73603967,\n",
       "        -0.18275003, -0.12400121],\n",
       "       [ 0.47473883, -0.9220052 ,  0.87617861, -0.45899058, -0.16919214,\n",
       "        -0.77545285, -1.2865125 ],\n",
       "       [-1.58140737, -1.5124034 , -1.37283601, -1.35915595, -1.20374277,\n",
       "         1.59535841,  0.80600783],\n",
       "       [-0.19574363,  0.37687085, -1.37283601,  0.38491447,  0.34808318,\n",
       "         0.40995278, -1.98401928],\n",
       "       [ 0.72058239,  1.55766726,  1.43843227,  1.28507985,  1.64127148,\n",
       "        -1.36815566,  1.27101235],\n",
       "       [ 0.43004   , -0.21352735, -0.2483287 ,  0.21613346,  0.08944552,\n",
       "        -1.36815566, -0.35650346],\n",
       "       [-1.44731088, -1.27624412, -1.37283601, -1.35915595, -1.46238043,\n",
       "         1.59535841, -0.12400121],\n",
       "       [ 0.56413649,  1.43958762,  0.31392496,  1.17255917,  1.12399616,\n",
       "        -1.36815566, -0.12400121],\n",
       "       [ 0.96642596,  1.20342834, -0.81058235,  1.0600385 ,  1.38263382,\n",
       "         1.00265559,  0.34100331],\n",
       "       [ 0.60883532,  0.73110978, -0.2483287 ,  1.11629884,  1.25331499,\n",
       "        -0.77545285, -0.12400121],\n",
       "       [ 1.14522128,  0.61303014, -1.37283601,  1.00377816,  1.12399616,\n",
       "        -0.18275003, -0.58900572],\n",
       "       [-0.68743076, -0.9220052 , -1.37283601, -1.24663528, -1.3330616 ,\n",
       "         0.40995278,  1.73601687],\n",
       "       [-1.46966029, -1.27624412, -0.81058235, -1.24663528, -1.3330616 ,\n",
       "         0.40995278,  0.80600783],\n",
       "       [ 0.74293181,  0.73110978,  0.87617861,  0.72247648,  0.99467733,\n",
       "        -0.18275003,  0.34100331],\n",
       "       [ 1.05582362,  0.96726906,  0.31392496,  1.0600385 ,  1.12399616,\n",
       "        -1.36815566,  0.57350557],\n",
       "       [-0.79917784, -1.63048304, -0.81058235, -1.41541629, -1.20374277,\n",
       "        -0.18275003, -1.75151702],\n",
       "       [ 1.59220959,  0.37687085, -0.81058235,  0.89125749,  1.38263382,\n",
       "        -1.36815566,  0.80600783],\n",
       "       [-1.69315444, -1.15816448, -0.81058235, -1.35915595, -1.3330616 ,\n",
       "         0.40995278, -0.12400121],\n",
       "       [ 0.80998005, -0.21352735,  0.87617861,  0.66621615,  0.99467733,\n",
       "         1.00265559, -1.2865125 ],\n",
       "       [ 1.39106485,  1.20342834, -0.81058235,  0.89125749,  1.12399616,\n",
       "        -1.36815566,  0.10850105],\n",
       "       [-0.77682842, -1.74856268, -1.37283601, -1.41541629, -1.3330616 ,\n",
       "         0.40995278,  0.34100331],\n",
       "       [-1.6261062 , -1.04008484,  1.43843227, -1.35915595, -1.3330616 ,\n",
       "        -0.77545285,  1.27101235],\n",
       "       [ 1.1675707 ,  1.55766726,  0.31392496,  1.11629884,  0.47740201,\n",
       "        -0.77545285, -0.12400121],\n",
       "       [-1.3355638 , -0.9220052 , -0.2483287 , -1.35915595, -1.20374277,\n",
       "         1.59535841,  1.03851009],\n",
       "       [-0.86622608, -1.74856268,  0.31392496, -1.41541629, -1.3330616 ,\n",
       "        -0.18275003, -0.12400121],\n",
       "       [-1.60375678, -0.56776627, -0.2483287 , -1.19037495, -1.07442394,\n",
       "        -1.36815566,  1.96851913],\n",
       "       [-0.53098486, -0.44968663, -0.2483287 ,  0.10361279,  0.08944552,\n",
       "        -0.77545285, -1.75151702],\n",
       "       [ 1.48046251,  1.0853487 , -0.81058235,  1.17255917,  1.38263382,\n",
       "        -1.36815566,  0.34100331],\n",
       "       [ 0.63118473,  2.02998583, -0.81058235,  1.56638153,  1.12399616,\n",
       "         1.59535841, -0.12400121],\n",
       "       [-1.71550386, -0.9220052 ,  0.87617861, -1.35915595, -1.3330616 ,\n",
       "        -1.36815566,  1.03851009],\n",
       "       [-0.95562374, -1.15816448, -0.81058235, -1.30289562, -1.46238043,\n",
       "         1.00265559,  0.10850105],\n",
       "       [-1.08972023, -0.80392556, -1.37283601, -1.35915595, -1.3330616 ,\n",
       "        -0.77545285,  0.80600783],\n",
       "       [-0.48628603, -0.21352735,  1.43843227,  0.38491447,  0.08944552,\n",
       "        -0.77545285, -0.58900572],\n",
       "       [-0.03929772,  0.84918942, -0.81058235,  0.32865413,  0.21876435,\n",
       "         0.40995278, -0.12400121],\n",
       "       [-0.93327433, -1.04008484, -0.2483287 , -1.47167663, -1.3330616 ,\n",
       "         1.59535841,  0.34100331],\n",
       "       [-1.20146731, -0.9220052 , -1.37283601, -1.19037495, -0.94510511,\n",
       "        -0.77545285,  0.57350557],\n",
       "       [-0.06164714,  0.61303014,  1.43843227,  0.27239379,  0.08944552,\n",
       "        -1.36815566, -0.35650346],\n",
       "       [-1.02267199, -0.56776627, -1.37283601, -1.30289562, -1.07442394,\n",
       "        -0.18275003,  0.80600783],\n",
       "       [ 0.92172713,  2.14806547,  0.87617861,  1.73516253,  1.38263382,\n",
       "         1.00265559, -1.05401024],\n",
       "       [-0.44158719, -1.15816448,  0.31392496, -0.29020957, -0.29851096,\n",
       "         1.59535841, -1.51901476],\n",
       "       [ 1.21226953,  2.38422475,  0.87617861,  1.45386085,  0.99467733,\n",
       "         1.59535841,  1.73601687],\n",
       "       [-0.26279187,  0.96726906, -0.2483287 ,  0.32865413,  0.21876435,\n",
       "        -1.36815566,  0.10850105],\n",
       "       [-1.00032257, -0.80392556,  0.31392496, -1.30289562, -1.46238043,\n",
       "         1.59535841,  2.43352365],\n",
       "       [ 1.36871543,  0.14071157,  0.31392496,  0.55369548,  0.73603967,\n",
       "         1.00265559, -0.12400121],\n",
       "       [-1.40261205, -0.09544771, -0.2483287 , -1.47167663, -1.3330616 ,\n",
       "        -0.77545285,  2.20102139],\n",
       "       [ 1.01112479,  2.14806547, -0.81058235,  1.62264186,  0.99467733,\n",
       "         0.40995278, -0.58900572],\n",
       "       [-1.29086497, -0.9220052 , -1.37283601, -1.30289562, -1.20374277,\n",
       "        -0.18275003,  1.73601687],\n",
       "       [-1.06737082, -1.39432376, -0.81058235, -1.24663528, -1.3330616 ,\n",
       "         1.59535841,  0.34100331],\n",
       "       [ 1.18992011,  1.79382654,  0.87617861,  1.28507985,  0.8653585 ,\n",
       "        -0.77545285, -0.58900572],\n",
       "       [-0.62038252, -1.04008484, -0.81058235, -1.35915595, -1.3330616 ,\n",
       "        -0.18275003,  0.57350557],\n",
       "       [ 1.3240166 ,  0.49495049,  1.43843227,  1.00377816,  1.51195265,\n",
       "         1.59535841,  0.80600783],\n",
       "       [ 0.49708824, -0.21352735, -1.37283601,  0.15987312,  0.08944552,\n",
       "         0.40995278, -0.58900572],\n",
       "       [ 0.11714818, -0.09544771,  1.43843227,  0.04735245, -0.03987331,\n",
       "        -1.36815566, -0.82150798],\n",
       "       [ 0.05009994, -0.21352735,  0.31392496, -0.1776889 , -0.29851096,\n",
       "         0.40995278, -1.05401024],\n",
       "       [ 0.85467889,  0.61303014, -0.2483287 ,  0.83499716,  1.38263382,\n",
       "        -0.77545285,  0.34100331],\n",
       "       [ 1.52516134,  0.96726906, -1.37283601,  0.77873682,  1.38263382,\n",
       "         0.40995278, -0.12400121],\n",
       "       [-0.10634597,  0.49495049,  0.31392496,  0.60995581,  0.34808318,\n",
       "         1.59535841, -1.2865125 ],\n",
       "       [ 0.00540111,  0.96726906,  0.87617861,  0.66621615,  0.60672084,\n",
       "        -0.18275003, -0.12400121],\n",
       "       [-1.15676848, -1.04008484,  1.43843227, -1.24663528, -1.3330616 ,\n",
       "         1.00265559, -0.12400121],\n",
       "       [ 0.09479877, -0.44968663,  0.31392496, -0.06516822, -0.29851096,\n",
       "        -1.36815566, -1.51901476],\n",
       "       [ 1.41341426,  0.96726906,  1.43843227,  1.00377816,  1.51195265,\n",
       "         0.40995278,  0.10850105],\n",
       "       [ 1.45811309, -0.09544771, -1.37283601,  0.72247648,  0.8653585 ,\n",
       "        -0.18275003, -0.82150798],\n",
       "       [-0.84387667, -0.9220052 , -1.37283601, -1.30289562, -1.3330616 ,\n",
       "         1.00265559,  0.80600783],\n",
       "       [-0.41923778,  0.84918942, -0.81058235,  0.4411748 ,  0.08944552,\n",
       "        -1.36815566, -0.35650346],\n",
       "       [ 0.25124468, -0.33160699,  0.87617861,  0.15987312,  0.08944552,\n",
       "        -0.77545285, -0.12400121],\n",
       "       [-0.1510448 ,  0.02263193,  1.43843227,  0.55369548,  0.73603967,\n",
       "        -0.77545285,  0.34100331],\n",
       "       [ 0.22889526,  0.49495049,  0.87617861,  0.32865413,  0.08944552,\n",
       "        -0.18275003, -1.75151702],\n",
       "       [-0.91092491, -0.44968663,  1.43843227, -1.41541629, -1.3330616 ,\n",
       "         1.59535841,  1.03851009],\n",
       "       [-1.24616614, -0.9220052 , -0.81058235, -1.30289562, -1.07442394,\n",
       "         0.40995278,  1.50351461],\n",
       "       [-1.51435912, -1.15816448, -1.37283601, -1.30289562, -1.46238043,\n",
       "         1.59535841,  0.10850105],\n",
       "       [ 0.5864859 ,  0.49495049, -0.81058235,  1.00377816,  0.73603967,\n",
       "         0.40995278, -0.35650346],\n",
       "       [-0.21809304, -0.09544771,  1.43843227,  0.15987312, -0.29851096,\n",
       "         0.40995278, -0.82150798],\n",
       "       [ 0.89937772,  2.14806547,  1.43843227,  1.62264186,  1.25331499,\n",
       "        -1.36815566,  1.73601687],\n",
       "       [-0.66508135, -1.5124034 ,  1.43843227, -1.35915595, -1.3330616 ,\n",
       "        -0.18275003,  0.34100331]])"
      ]
     },
     "execution_count": 27,
     "metadata": {},
     "output_type": "execute_result"
    }
   ],
   "source": [
    "X_train_std"
   ]
  },
  {
   "cell_type": "code",
   "execution_count": 28,
   "id": "ca76f7fe",
   "metadata": {},
   "outputs": [
    {
     "data": {
      "text/plain": [
       "array([[ 0.83232947, -0.09544771, -0.81058235,  0.72247648,  1.51195265,\n",
       "         0.40995278, -0.58900572],\n",
       "       [-0.32984012,  0.14071157,  0.31392496,  0.10361279, -0.29851096,\n",
       "        -0.18275003, -1.98401928],\n",
       "       [-0.97797316, -0.44968663, -0.81058235, -1.35915595, -1.3330616 ,\n",
       "         1.00265559,  2.66602591],\n",
       "       [ 0.67588356,  1.6757469 ,  0.87617861,  1.39760052,  0.73603967,\n",
       "         0.40995278, -0.35650346],\n",
       "       [-1.55905795, -1.04008484,  0.31392496, -1.30289562, -1.3330616 ,\n",
       "        -0.18275003,  0.80600783],\n",
       "       [ 0.51943766,  0.49495049, -0.2483287 ,  1.22881951,  1.64127148,\n",
       "        -1.36815566,  0.57350557],\n",
       "       [-0.82152725, -1.04008484,  0.31392496, -1.41541629, -1.20374277,\n",
       "        -0.18275003,  1.03851009],\n",
       "       [ 0.20654585,  0.96726906, -1.37283601,  0.49743514,  0.34808318,\n",
       "         0.40995278,  0.10850105],\n",
       "       [-0.01694831,  1.0853487 ,  0.87617861,  0.55369548,  0.21876435,\n",
       "         1.59535841, -0.58900572],\n",
       "       [-0.12869538,  0.25879121, -0.81058235,  0.10361279,  0.08944552,\n",
       "         1.00265559, -0.58900572],\n",
       "       [ 1.27931777,  0.25879121, -0.81058235,  1.00377816,  0.21876435,\n",
       "        -0.77545285, -1.05401024],\n",
       "       [-0.57568369,  0.61303014,  0.87617861,  0.38491447,  0.34808318,\n",
       "         1.00265559,  0.34100331],\n",
       "       [-0.08399655,  0.25879121,  0.31392496,  0.49743514, -0.03987331,\n",
       "         1.00265559, -0.58900572],\n",
       "       [-0.50863544,  0.73110978,  0.87617861,  0.4411748 ,  0.34808318,\n",
       "        -0.18275003, -0.58900572],\n",
       "       [-0.3074907 ,  0.25879121,  1.43843227,  0.49743514,  0.21876435,\n",
       "         0.40995278, -0.35650346],\n",
       "       [-0.8885755 , -1.15816448, -1.37283601, -1.30289562, -1.46238043,\n",
       "         1.00265559,  0.10850105],\n",
       "       [ 0.02775052,  0.14071157, -0.81058235,  0.38491447,  0.34808318,\n",
       "         1.00265559, -0.35650346],\n",
       "       [ 0.29594351, -0.44968663, -0.2483287 ,  0.32865413, -0.03987331,\n",
       "        -1.36815566, -1.05401024],\n",
       "       [-0.70978018, -1.27624412, -0.81058235, -1.35915595, -1.20374277,\n",
       "        -0.77545285, -0.12400121],\n",
       "       [-1.35791322, -0.56776627, -0.81058235, -1.41541629, -1.07442394,\n",
       "         1.00265559,  1.96851913],\n",
       "       [ 0.98877538, -0.33160699,  1.43843227,  0.60995581,  0.99467733,\n",
       "         1.00265559, -0.58900572],\n",
       "       [-0.24044246, -0.33160699,  1.43843227,  0.38491447,  0.34808318,\n",
       "         1.59535841, -0.12400121],\n",
       "       [-1.1791179 , -1.27624412, -0.2483287 , -1.07785427, -1.3330616 ,\n",
       "         0.40995278,  0.80600783],\n",
       "       [-1.53670854, -1.74856268,  0.87617861, -1.35915595, -1.3330616 ,\n",
       "         1.59535841, -0.35650346],\n",
       "       [ 1.10052245,  0.37687085, -0.2483287 ,  0.55369548,  0.73603967,\n",
       "         0.40995278, -0.58900572],\n",
       "       [-1.22381673, -1.5124034 , -0.81058235, -1.5841973 , -1.3330616 ,\n",
       "         1.00265559,  1.27101235],\n",
       "       [-0.73212959, -0.9220052 , -0.2483287 , -1.07785427, -1.07442394,\n",
       "        -0.18275003,  1.73601687],\n",
       "       [ 0.45238941,  0.37687085,  1.43843227,  0.27239379,  0.08944552,\n",
       "        -1.36815566, -0.35650346],\n",
       "       [ 0.36299175, -1.04008484,  1.43843227, -0.29020957, -0.29851096,\n",
       "         1.59535841, -1.75151702],\n",
       "       [-1.13441907, -1.04008484, -1.37283601, -1.24663528, -1.07442394,\n",
       "        -0.77545285,  0.80600783]])"
      ]
     },
     "execution_count": 28,
     "metadata": {},
     "output_type": "execute_result"
    }
   ],
   "source": [
    "X_test_std"
   ]
  },
  {
   "cell_type": "code",
   "execution_count": null,
   "id": "64dd8351",
   "metadata": {},
   "outputs": [],
   "source": []
  },
  {
   "cell_type": "markdown",
   "id": "5a219136",
   "metadata": {},
   "source": [
    "# Model building"
   ]
  },
  {
   "cell_type": "code",
   "execution_count": 29,
   "id": "4c073660",
   "metadata": {},
   "outputs": [],
   "source": [
    "#initial model \n",
    "model = DecisionTreeClassifier(random_state=0)\n",
    "model.fit(X_train,y_train)\n",
    "y_pred = model.predict(X_test)"
   ]
  },
  {
   "cell_type": "code",
   "execution_count": 30,
   "id": "ab13ff4c",
   "metadata": {},
   "outputs": [
    {
     "data": {
      "text/plain": [
       "DecisionTreeClassifier(max_depth=3)"
      ]
     },
     "execution_count": 30,
     "metadata": {},
     "output_type": "execute_result"
    }
   ],
   "source": [
    "clftree.fit(X_train, y_train)"
   ]
  },
  {
   "cell_type": "code",
   "execution_count": 31,
   "id": "cd85b24f",
   "metadata": {},
   "outputs": [
    {
     "data": {
      "text/plain": [
       "0.9666666666666667"
      ]
     },
     "execution_count": 31,
     "metadata": {},
     "output_type": "execute_result"
    }
   ],
   "source": [
    "accuracy_score(y_test,y_pred)"
   ]
  },
  {
   "cell_type": "code",
   "execution_count": 32,
   "id": "32716171",
   "metadata": {},
   "outputs": [
    {
     "data": {
      "text/plain": [
       "0.9666666666666667"
      ]
     },
     "execution_count": 32,
     "metadata": {},
     "output_type": "execute_result"
    }
   ],
   "source": [
    "f1_score(y_test,y_pred, average='micro')"
   ]
  },
  {
   "cell_type": "code",
   "execution_count": 33,
   "id": "00d0d375",
   "metadata": {},
   "outputs": [
    {
     "data": {
      "text/plain": [
       "0.9666666666666667"
      ]
     },
     "execution_count": 33,
     "metadata": {},
     "output_type": "execute_result"
    }
   ],
   "source": [
    "precision_score(y_test,y_pred, average='micro')"
   ]
  },
  {
   "cell_type": "code",
   "execution_count": 34,
   "id": "5974a3d6",
   "metadata": {},
   "outputs": [
    {
     "data": {
      "text/plain": [
       "0.9666666666666667"
      ]
     },
     "execution_count": 34,
     "metadata": {},
     "output_type": "execute_result"
    }
   ],
   "source": [
    "recall_score(y_test,y_pred, average='micro')"
   ]
  },
  {
   "cell_type": "code",
   "execution_count": 35,
   "id": "16f50cfe",
   "metadata": {},
   "outputs": [],
   "source": [
    "y_train_pred = clftree.predict(X_train)\n",
    "y_test_pred = clftree.predict(X_test)"
   ]
  },
  {
   "cell_type": "code",
   "execution_count": 36,
   "id": "9c5c9a2a",
   "metadata": {},
   "outputs": [
    {
     "data": {
      "text/plain": [
       "array(['Class_3', 'Class_2', 'Class_1', 'Class_3', 'Class_1', 'Class_2',\n",
       "       'Class_1', 'Class_2', 'Class_2', 'Class_2', 'Class_3', 'Class_2',\n",
       "       'Class_2', 'Class_2', 'Class_2', 'Class_1', 'Class_2', 'Class_2',\n",
       "       'Class_1', 'Class_1', 'Class_3', 'Class_2', 'Class_1', 'Class_1',\n",
       "       'Class_3', 'Class_1', 'Class_1', 'Class_2', 'Class_2', 'Class_1'],\n",
       "      dtype=object)"
      ]
     },
     "execution_count": 36,
     "metadata": {},
     "output_type": "execute_result"
    }
   ],
   "source": [
    "y_test_pred"
   ]
  },
  {
   "cell_type": "code",
   "execution_count": null,
   "id": "45dfc76d",
   "metadata": {},
   "outputs": [],
   "source": []
  },
  {
   "cell_type": "markdown",
   "id": "1dbc11f4",
   "metadata": {},
   "source": [
    "# Model evaluation, confusion matrix"
   ]
  },
  {
   "cell_type": "code",
   "execution_count": 37,
   "id": "e137df42",
   "metadata": {},
   "outputs": [],
   "source": [
    "from sklearn.metrics import accuracy_score, confusion_matrix"
   ]
  },
  {
   "cell_type": "code",
   "execution_count": 38,
   "id": "5f3b87d9",
   "metadata": {},
   "outputs": [
    {
     "data": {
      "text/plain": [
       "array([[39,  0,  0],\n",
       "       [ 0, 37,  0],\n",
       "       [ 0,  0, 44]], dtype=int64)"
      ]
     },
     "execution_count": 38,
     "metadata": {},
     "output_type": "execute_result"
    }
   ],
   "source": [
    "confusion_matrix(y_train, y_train_pred)"
   ]
  },
  {
   "cell_type": "code",
   "execution_count": 39,
   "id": "b17720b3",
   "metadata": {},
   "outputs": [
    {
     "data": {
      "text/plain": [
       "array([[11,  0,  0],\n",
       "       [ 0, 13,  0],\n",
       "       [ 0,  1,  5]], dtype=int64)"
      ]
     },
     "execution_count": 39,
     "metadata": {},
     "output_type": "execute_result"
    }
   ],
   "source": [
    "confusion_matrix(y_test, y_test_pred)"
   ]
  },
  {
   "cell_type": "code",
   "execution_count": 40,
   "id": "922b1298",
   "metadata": {},
   "outputs": [
    {
     "data": {
      "text/plain": [
       "0.9666666666666667"
      ]
     },
     "execution_count": 40,
     "metadata": {},
     "output_type": "execute_result"
    }
   ],
   "source": [
    "accuracy_score(y_test, y_test_pred)"
   ]
  },
  {
   "cell_type": "code",
   "execution_count": null,
   "id": "c4879c66",
   "metadata": {},
   "outputs": [],
   "source": []
  }
 ],
 "metadata": {
  "kernelspec": {
   "display_name": "Python 3 (ipykernel)",
   "language": "python",
   "name": "python3"
  },
  "language_info": {
   "codemirror_mode": {
    "name": "ipython",
    "version": 3
   },
   "file_extension": ".py",
   "mimetype": "text/x-python",
   "name": "python",
   "nbconvert_exporter": "python",
   "pygments_lexer": "ipython3",
   "version": "3.9.7"
  }
 },
 "nbformat": 4,
 "nbformat_minor": 5
}
