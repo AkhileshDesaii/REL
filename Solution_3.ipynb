{
 "cells": [
  {
   "cell_type": "code",
   "execution_count": 1,
   "id": "df3a5879",
   "metadata": {},
   "outputs": [],
   "source": [
    "#Importing following libraries"
   ]
  },
  {
   "cell_type": "code",
   "execution_count": 2,
   "id": "3550731e",
   "metadata": {},
   "outputs": [],
   "source": [
    "import numpy as np \n",
    "import pandas as pd \n",
    "from scipy.stats import randint\n",
    "import seaborn as sns # used for plot interactive graph. \n",
    "import matplotlib.pyplot as plt\n",
    "import seaborn as sns\n",
    "from io import StringIO\n",
    "from sklearn.feature_extraction.text import TfidfVectorizer\n",
    "from sklearn.feature_selection import chi2\n",
    "from IPython.display import display\n",
    "from sklearn.model_selection import train_test_split\n",
    "from sklearn.feature_extraction.text import TfidfTransformer\n",
    "from sklearn.feature_extraction.text import CountVectorizer\n",
    "from sklearn.linear_model import LogisticRegression\n",
    "from sklearn.model_selection import cross_val_score\n",
    "from sklearn.metrics import confusion_matrix\n",
    "from sklearn import metrics\n",
    "import warnings\n",
    "warnings.filterwarnings(\"ignore\", category=FutureWarning)"
   ]
  },
  {
   "cell_type": "code",
   "execution_count": 3,
   "id": "c4026593",
   "metadata": {},
   "outputs": [],
   "source": [
    "#Importing the data\n",
    "df = pd.read_csv(r\"C:\\Users\\user\\Dropbox\\PC\\Desktop\\Machine Learning\\Relecura\\dataset_3.csv\")"
   ]
  },
  {
   "cell_type": "code",
   "execution_count": 4,
   "id": "b551c32e",
   "metadata": {},
   "outputs": [
    {
     "data": {
      "text/html": [
       "<div>\n",
       "<style scoped>\n",
       "    .dataframe tbody tr th:only-of-type {\n",
       "        vertical-align: middle;\n",
       "    }\n",
       "\n",
       "    .dataframe tbody tr th {\n",
       "        vertical-align: top;\n",
       "    }\n",
       "\n",
       "    .dataframe thead th {\n",
       "        text-align: right;\n",
       "    }\n",
       "</style>\n",
       "<table border=\"1\" class=\"dataframe\">\n",
       "  <thead>\n",
       "    <tr style=\"text-align: right;\">\n",
       "      <th></th>\n",
       "      <th>Title</th>\n",
       "      <th>Abstract</th>\n",
       "      <th>First Claim</th>\n",
       "      <th>Target</th>\n",
       "    </tr>\n",
       "  </thead>\n",
       "  <tbody>\n",
       "    <tr>\n",
       "      <th>0</th>\n",
       "      <td>Geophysical deep learning</td>\n",
       "      <td>A method can include selecting a type of geoph...</td>\n",
       "      <td>1. A method comprising:\\nselecting a type of g...</td>\n",
       "      <td>Deep learning</td>\n",
       "    </tr>\n",
       "    <tr>\n",
       "      <th>1</th>\n",
       "      <td>Deep learning for algorithm portfolios</td>\n",
       "      <td>Automated feature construction for algorithm p...</td>\n",
       "      <td>1. A computer-implemented method of automated ...</td>\n",
       "      <td>Deep learning</td>\n",
       "    </tr>\n",
       "    <tr>\n",
       "      <th>2</th>\n",
       "      <td>Modular deep learning model</td>\n",
       "      <td>The technology described herein uses a modular...</td>\n",
       "      <td>1. An automatic speech recognition (ASR) syste...</td>\n",
       "      <td>Deep learning</td>\n",
       "    </tr>\n",
       "    <tr>\n",
       "      <th>3</th>\n",
       "      <td>Deep learning processing of video</td>\n",
       "      <td>A method and system for processing multiple fr...</td>\n",
       "      <td>1. A method comprising:\\nperforming a first pr...</td>\n",
       "      <td>Deep learning</td>\n",
       "    </tr>\n",
       "    <tr>\n",
       "      <th>4</th>\n",
       "      <td>System and method for deep learning and wirele...</td>\n",
       "      <td>A neural network is trained using deep reinfor...</td>\n",
       "      <td>1. A method comprising:\\ninitializing a neural...</td>\n",
       "      <td>Deep learning</td>\n",
       "    </tr>\n",
       "  </tbody>\n",
       "</table>\n",
       "</div>"
      ],
      "text/plain": [
       "                                               Title  \\\n",
       "0                          Geophysical deep learning   \n",
       "1             Deep learning for algorithm portfolios   \n",
       "2                        Modular deep learning model   \n",
       "3                  Deep learning processing of video   \n",
       "4  System and method for deep learning and wirele...   \n",
       "\n",
       "                                            Abstract  \\\n",
       "0  A method can include selecting a type of geoph...   \n",
       "1  Automated feature construction for algorithm p...   \n",
       "2  The technology described herein uses a modular...   \n",
       "3  A method and system for processing multiple fr...   \n",
       "4  A neural network is trained using deep reinfor...   \n",
       "\n",
       "                                         First Claim         Target  \n",
       "0  1. A method comprising:\\nselecting a type of g...  Deep learning  \n",
       "1  1. A computer-implemented method of automated ...  Deep learning  \n",
       "2  1. An automatic speech recognition (ASR) syste...  Deep learning  \n",
       "3  1. A method comprising:\\nperforming a first pr...  Deep learning  \n",
       "4  1. A method comprising:\\ninitializing a neural...  Deep learning  "
      ]
     },
     "execution_count": 4,
     "metadata": {},
     "output_type": "execute_result"
    }
   ],
   "source": [
    "df.head()"
   ]
  },
  {
   "cell_type": "code",
   "execution_count": 5,
   "id": "0a853d5a",
   "metadata": {},
   "outputs": [
    {
     "name": "stdout",
     "output_type": "stream",
     "text": [
      "<class 'pandas.core.frame.DataFrame'>\n",
      "RangeIndex: 200 entries, 0 to 199\n",
      "Data columns (total 4 columns):\n",
      " #   Column       Non-Null Count  Dtype \n",
      "---  ------       --------------  ----- \n",
      " 0   Title        200 non-null    object\n",
      " 1   Abstract     200 non-null    object\n",
      " 2   First Claim  200 non-null    object\n",
      " 3   Target       200 non-null    object\n",
      "dtypes: object(4)\n",
      "memory usage: 6.4+ KB\n"
     ]
    }
   ],
   "source": [
    "#checking for null\n",
    "df.info()"
   ]
  },
  {
   "cell_type": "markdown",
   "id": "5286c5fa",
   "metadata": {},
   "source": [
    "# there is no null values"
   ]
  },
  {
   "cell_type": "code",
   "execution_count": null,
   "id": "f2cd0ea0",
   "metadata": {},
   "outputs": [],
   "source": []
  },
  {
   "cell_type": "code",
   "execution_count": 6,
   "id": "4ed22331",
   "metadata": {},
   "outputs": [
    {
     "data": {
      "text/plain": [
       "(200, 4)"
      ]
     },
     "execution_count": 6,
     "metadata": {},
     "output_type": "execute_result"
    }
   ],
   "source": [
    "df.shape"
   ]
  },
  {
   "cell_type": "code",
   "execution_count": 7,
   "id": "bdf12f9d",
   "metadata": {},
   "outputs": [
    {
     "data": {
      "text/plain": [
       "array([['Deep learning'],\n",
       "       ['Nucleic acid(DNA)'],\n",
       "       ['Light emitting diode'],\n",
       "       ['Polymer']], dtype=object)"
      ]
     },
     "execution_count": 7,
     "metadata": {},
     "output_type": "execute_result"
    }
   ],
   "source": [
    "pd.DataFrame(df.Target.unique()).values"
   ]
  },
  {
   "cell_type": "code",
   "execution_count": 8,
   "id": "e2f9d1fe",
   "metadata": {},
   "outputs": [],
   "source": [
    "df.rename(columns = {'First Claim':'First_Claim'}, inplace = True)"
   ]
  },
  {
   "cell_type": "code",
   "execution_count": 9,
   "id": "82126c41",
   "metadata": {},
   "outputs": [],
   "source": [
    "df2 = df.sample(200, random_state=1).copy()"
   ]
  },
  {
   "cell_type": "code",
   "execution_count": 10,
   "id": "34c918fc",
   "metadata": {},
   "outputs": [
    {
     "data": {
      "text/html": [
       "<div>\n",
       "<style scoped>\n",
       "    .dataframe tbody tr th:only-of-type {\n",
       "        vertical-align: middle;\n",
       "    }\n",
       "\n",
       "    .dataframe tbody tr th {\n",
       "        vertical-align: top;\n",
       "    }\n",
       "\n",
       "    .dataframe thead th {\n",
       "        text-align: right;\n",
       "    }\n",
       "</style>\n",
       "<table border=\"1\" class=\"dataframe\">\n",
       "  <thead>\n",
       "    <tr style=\"text-align: right;\">\n",
       "      <th></th>\n",
       "      <th>Title</th>\n",
       "      <th>Abstract</th>\n",
       "      <th>First_Claim</th>\n",
       "      <th>Target</th>\n",
       "      <th>category_id</th>\n",
       "    </tr>\n",
       "  </thead>\n",
       "  <tbody>\n",
       "    <tr>\n",
       "      <th>58</th>\n",
       "      <td>Modified thermostable DNA polymerase, and DNA ...</td>\n",
       "      <td>\\nA modified thermostable DNA polymerase havin...</td>\n",
       "      <td>1. A modified thermostable DNA polymerase havi...</td>\n",
       "      <td>Nucleic acid(DNA)</td>\n",
       "      <td>0</td>\n",
       "    </tr>\n",
       "    <tr>\n",
       "      <th>40</th>\n",
       "      <td>Integrated deep learning and clinical image vi...</td>\n",
       "      <td>Integrated deep learning and clinical image vi...</td>\n",
       "      <td>1. A method comprising:\\nreceiving a clinical ...</td>\n",
       "      <td>Deep learning</td>\n",
       "      <td>1</td>\n",
       "    </tr>\n",
       "    <tr>\n",
       "      <th>34</th>\n",
       "      <td>Deep Learning Training System</td>\n",
       "      <td>Training large neural network models by provid...</td>\n",
       "      <td>1. A system comprising:\\na computer-readable m...</td>\n",
       "      <td>Deep learning</td>\n",
       "      <td>1</td>\n",
       "    </tr>\n",
       "    <tr>\n",
       "      <th>102</th>\n",
       "      <td>Light-emitting diode and light-emitting diode ...</td>\n",
       "      <td>A light-emitting diode includes a first semico...</td>\n",
       "      <td>1. A light-emitting diode comprising:\\na semic...</td>\n",
       "      <td>Light emitting diode</td>\n",
       "      <td>2</td>\n",
       "    </tr>\n",
       "    <tr>\n",
       "      <th>184</th>\n",
       "      <td>Polymers</td>\n",
       "      <td>The present invention relates to polymers comp...</td>\n",
       "      <td>1. A polymer comprising one or more perfluoroa...</td>\n",
       "      <td>Polymer</td>\n",
       "      <td>3</td>\n",
       "    </tr>\n",
       "  </tbody>\n",
       "</table>\n",
       "</div>"
      ],
      "text/plain": [
       "                                                 Title  \\\n",
       "58   Modified thermostable DNA polymerase, and DNA ...   \n",
       "40   Integrated deep learning and clinical image vi...   \n",
       "34                       Deep Learning Training System   \n",
       "102  Light-emitting diode and light-emitting diode ...   \n",
       "184                                           Polymers   \n",
       "\n",
       "                                              Abstract  \\\n",
       "58   \\nA modified thermostable DNA polymerase havin...   \n",
       "40   Integrated deep learning and clinical image vi...   \n",
       "34   Training large neural network models by provid...   \n",
       "102  A light-emitting diode includes a first semico...   \n",
       "184  The present invention relates to polymers comp...   \n",
       "\n",
       "                                           First_Claim                Target  \\\n",
       "58   1. A modified thermostable DNA polymerase havi...     Nucleic acid(DNA)   \n",
       "40   1. A method comprising:\\nreceiving a clinical ...         Deep learning   \n",
       "34   1. A system comprising:\\na computer-readable m...         Deep learning   \n",
       "102  1. A light-emitting diode comprising:\\na semic...  Light emitting diode   \n",
       "184  1. A polymer comprising one or more perfluoroa...               Polymer   \n",
       "\n",
       "     category_id  \n",
       "58             0  \n",
       "40             1  \n",
       "34             1  \n",
       "102            2  \n",
       "184            3  "
      ]
     },
     "execution_count": 10,
     "metadata": {},
     "output_type": "execute_result"
    }
   ],
   "source": [
    "df2['category_id'] = df2['Target'].factorize()[0]\n",
    "category_id_df = df2[['Target', 'category_id']].drop_duplicates()\n",
    "\n",
    "\n",
    "category_to_id = dict(category_id_df.values)\n",
    "id_to_category = dict(category_id_df[['category_id', 'Target']].values)\n",
    "\n",
    "df2.head()"
   ]
  },
  {
   "cell_type": "code",
   "execution_count": 11,
   "id": "e762b5e3",
   "metadata": {},
   "outputs": [
    {
     "data": {
      "text/plain": [
       "Text(0.5, 0, 'Number of ocurrences')"
      ]
     },
     "execution_count": 11,
     "metadata": {},
     "output_type": "execute_result"
    },
    {
     "data": {
      "image/png": "[encoded data removed]",
      "text/plain": [
       "<Figure size 576x432 with 1 Axes>"
      ]
     },
     "metadata": {
      "needs_background": "light"
     },
     "output_type": "display_data"
    }
   ],
   "source": [
    "fig = plt.figure(figsize=(8,6))\n",
    "colors = ['grey','grey','grey','grey','grey','grey','grey','darkblue','darkblue','darkblue']\n",
    "df.groupby('Target').Target.count().sort_values().plot.barh(ylim=0, color=colors, title= 'COUNT OF EACH CATEGORIES')\n",
    "plt.xlabel('Number of ocurrences', fontsize = 10)"
   ]
  },
  {
   "cell_type": "markdown",
   "id": "b401e0c5",
   "metadata": {},
   "source": [
    "# number of occurences are same for each target¶"
   ]
  },
  {
   "cell_type": "code",
   "execution_count": null,
   "id": "4bf92af3",
   "metadata": {},
   "outputs": [],
   "source": []
  },
  {
   "cell_type": "code",
   "execution_count": 12,
   "id": "12d6dc10",
   "metadata": {},
   "outputs": [
    {
     "name": "stdout",
     "output_type": "stream",
     "text": [
      "Each of the 200 Text is represented by 340 features (TF-IDF score of unigrams and bigrams)\n"
     ]
    }
   ],
   "source": [
    "tfidf = TfidfVectorizer(sublinear_tf=True, min_df=5,\n",
    "                        ngram_range=(1, 2), \n",
    "                        stop_words='english')\n",
    "\n",
    "\n",
    "features = tfidf.fit_transform(df.Abstract).toarray()\n",
    "\n",
    "labels = df.First_Claim\n",
    "\n",
    "print(\"Each of the %d Text is represented by %d features (TF-IDF score of unigrams and bigrams)\" %(features.shape))\n"
   ]
  },
  {
   "cell_type": "code",
   "execution_count": 13,
   "id": "4dbe1815",
   "metadata": {},
   "outputs": [
    {
     "name": "stdout",
     "output_type": "stream",
     "text": [
      "\n",
      "==> Deep learning:\n",
      "  * Most Correlated Unigrams are: encoding, external, weight\n",
      "  * Most Correlated Bigrams are: formed substrate, emitting diodes, emitting diode\n",
      "\n",
      "==> Light emitting diode:\n",
      "  * Most Correlated Unigrams are: encoding, external, weight\n",
      "  * Most Correlated Bigrams are: formed substrate, emitting diodes, emitting diode\n",
      "\n",
      "==> Nucleic acid(DNA):\n",
      "  * Most Correlated Unigrams are: encoding, external, weight\n",
      "  * Most Correlated Bigrams are: formed substrate, emitting diodes, emitting diode\n",
      "\n",
      "==> Polymer:\n",
      "  * Most Correlated Unigrams are: encoding, external, weight\n",
      "  * Most Correlated Bigrams are: formed substrate, emitting diodes, emitting diode\n"
     ]
    }
   ],
   "source": [
    "N = 3\n",
    "for Outcome, category_id in sorted(category_to_id.items()):\n",
    "  features_chi2 = chi2(features, labels == category_id)\n",
    "  indices = np.argsort(features_chi2[0])\n",
    "  feature_names = np.array(tfidf.get_feature_names())[indices]\n",
    "  unigrams = [v for v in feature_names if len(v.split(' ')) == 1]\n",
    "  bigrams = [v for v in feature_names if len(v.split(' ')) == 2]\n",
    "  print(\"\\n==> %s:\" %(Outcome))\n",
    "  print(\"  * Most Correlated Unigrams are: %s\" %(', '.join(unigrams[-N:])))\n",
    "  print(\"  * Most Correlated Bigrams are: %s\" %(', '.join(bigrams[-N:])))"
   ]
  },
  {
   "cell_type": "markdown",
   "id": "6b4027e2",
   "metadata": {},
   "source": [
    "# splitting into x and y\n",
    "\n",
    "20% for y and 80 for x\n"
   ]
  },
  {
   "cell_type": "code",
   "execution_count": 14,
   "id": "1919c90a",
   "metadata": {},
   "outputs": [],
   "source": [
    "x = df2['Abstract']\n",
    "y = df2['Target']\n",
    "\n",
    "x_train, x_test, y_train, y_test = train_test_split(x, y, test_size=0.2, random_state = 0)"
   ]
  },
  {
   "cell_type": "code",
   "execution_count": 15,
   "id": "3307113c",
   "metadata": {},
   "outputs": [],
   "source": [
    "vect=CountVectorizer(min_df=5).fit(x_train)\n",
    "names=np.array(vect.get_feature_names())\n",
    "x_train_trans=vect.transform(x_train)"
   ]
  },
  {
   "cell_type": "code",
   "execution_count": 16,
   "id": "f386151a",
   "metadata": {},
   "outputs": [],
   "source": [
    "x_train_trans=vect.transform(x_train)"
   ]
  },
  {
   "cell_type": "code",
   "execution_count": 17,
   "id": "3d2d0d62",
   "metadata": {},
   "outputs": [],
   "source": [
    "x_train,x_test,y_train,y_test=train_test_split(x,y,random_state=0)\n",
    "vect=CountVectorizer(min_df=5).fit(x_train)\n",
    "names=np.array(vect.get_feature_names())\n",
    "x_train_trans=vect.transform(x_train)"
   ]
  },
  {
   "cell_type": "code",
   "execution_count": null,
   "id": "71e96a96",
   "metadata": {},
   "outputs": [],
   "source": []
  },
  {
   "cell_type": "markdown",
   "id": "fcaef0bc",
   "metadata": {},
   "source": [
    "# Model building and evaluation"
   ]
  },
  {
   "cell_type": "code",
   "execution_count": 18,
   "id": "a0f3a96f",
   "metadata": {},
   "outputs": [
    {
     "name": "stdout",
     "output_type": "stream",
     "text": [
      "roc_auc_score 94.00%\n"
     ]
    }
   ],
   "source": [
    "model = LogisticRegression(C=1)\n",
    "model.fit(x_train_trans, y_train)\n",
    "from sklearn import metrics\n",
    "predict=model.predict(vect.transform(x_test))\n",
    "print('roc_auc_score {:.2%}'.format(metrics.accuracy_score(y_test,predict)))"
   ]
  },
  {
   "cell_type": "code",
   "execution_count": null,
   "id": "970ada8e",
   "metadata": {},
   "outputs": [],
   "source": []
  }
 ],
 "metadata": {
  "kernelspec": {
   "display_name": "Python 3 (ipykernel)",
   "language": "python",
   "name": "python3"
  },
  "language_info": {
   "codemirror_mode": {
    "name": "ipython",
    "version": 3
   },
   "file_extension": ".py",
   "mimetype": "text/x-python",
   "name": "python",
   "nbconvert_exporter": "python",
   "pygments_lexer": "ipython3",
   "version": "3.9.7"
  }
 },
 "nbformat": 4,
 "nbformat_minor": 5
}
