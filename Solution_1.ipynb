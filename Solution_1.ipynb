{
 "cells": [
  {
   "cell_type": "code",
   "execution_count": 1,
   "id": "1c4f7a95",
   "metadata": {},
   "outputs": [],
   "source": [
    "#importing libraries\n",
    "import numpy as np\n",
    "import pandas as pd \n",
    "import matplotlib.pyplot as plt\n",
    "import seaborn as sns"
   ]
  },
  {
   "cell_type": "code",
   "execution_count": 2,
   "id": "c67666f5",
   "metadata": {},
   "outputs": [],
   "source": [
    "#importing the data\n",
    "df = pd.read_csv(r\"C:\\Users\\user\\Dropbox\\PC\\Desktop\\Machine Learning\\Relecura\\dataset_1.csv\")"
   ]
  },
  {
   "cell_type": "code",
   "execution_count": 3,
   "id": "6558af8d",
   "metadata": {},
   "outputs": [
    {
     "data": {
      "text/html": [
       "<div>\n",
       "<style scoped>\n",
       "    .dataframe tbody tr th:only-of-type {\n",
       "        vertical-align: middle;\n",
       "    }\n",
       "\n",
       "    .dataframe tbody tr th {\n",
       "        vertical-align: top;\n",
       "    }\n",
       "\n",
       "    .dataframe thead th {\n",
       "        text-align: right;\n",
       "    }\n",
       "</style>\n",
       "<table border=\"1\" class=\"dataframe\">\n",
       "  <thead>\n",
       "    <tr style=\"text-align: right;\">\n",
       "      <th></th>\n",
       "      <th>Id</th>\n",
       "      <th>Feature_1</th>\n",
       "      <th>Feature_2</th>\n",
       "      <th>Feature_3</th>\n",
       "      <th>Feature_4</th>\n",
       "      <th>target</th>\n",
       "    </tr>\n",
       "  </thead>\n",
       "  <tbody>\n",
       "    <tr>\n",
       "      <th>0</th>\n",
       "      <td>1</td>\n",
       "      <td>5.1</td>\n",
       "      <td>3.5</td>\n",
       "      <td>1.4</td>\n",
       "      <td>0.2</td>\n",
       "      <td>Class_1</td>\n",
       "    </tr>\n",
       "    <tr>\n",
       "      <th>1</th>\n",
       "      <td>2</td>\n",
       "      <td>4.9</td>\n",
       "      <td>3.0</td>\n",
       "      <td>1.4</td>\n",
       "      <td>0.2</td>\n",
       "      <td>Class_1</td>\n",
       "    </tr>\n",
       "    <tr>\n",
       "      <th>2</th>\n",
       "      <td>3</td>\n",
       "      <td>4.7</td>\n",
       "      <td>3.2</td>\n",
       "      <td>1.3</td>\n",
       "      <td>0.2</td>\n",
       "      <td>Class_1</td>\n",
       "    </tr>\n",
       "    <tr>\n",
       "      <th>3</th>\n",
       "      <td>4</td>\n",
       "      <td>4.6</td>\n",
       "      <td>3.1</td>\n",
       "      <td>1.5</td>\n",
       "      <td>0.2</td>\n",
       "      <td>Class_1</td>\n",
       "    </tr>\n",
       "    <tr>\n",
       "      <th>4</th>\n",
       "      <td>5</td>\n",
       "      <td>5.0</td>\n",
       "      <td>3.6</td>\n",
       "      <td>1.4</td>\n",
       "      <td>0.2</td>\n",
       "      <td>Class_1</td>\n",
       "    </tr>\n",
       "  </tbody>\n",
       "</table>\n",
       "</div>"
      ],
      "text/plain": [
       "   Id  Feature_1  Feature_2  Feature_3  Feature_4   target\n",
       "0   1        5.1        3.5        1.4        0.2  Class_1\n",
       "1   2        4.9        3.0        1.4        0.2  Class_1\n",
       "2   3        4.7        3.2        1.3        0.2  Class_1\n",
       "3   4        4.6        3.1        1.5        0.2  Class_1\n",
       "4   5        5.0        3.6        1.4        0.2  Class_1"
      ]
     },
     "execution_count": 3,
     "metadata": {},
     "output_type": "execute_result"
    }
   ],
   "source": [
    "df.head()"
   ]
  },
  {
   "cell_type": "code",
   "execution_count": 4,
   "id": "ee747ac6",
   "metadata": {},
   "outputs": [
    {
     "data": {
      "text/plain": [
       "(150, 6)"
      ]
     },
     "execution_count": 4,
     "metadata": {},
     "output_type": "execute_result"
    }
   ],
   "source": [
    "df.shape"
   ]
  },
  {
   "cell_type": "code",
   "execution_count": 5,
   "id": "0ac83699",
   "metadata": {},
   "outputs": [
    {
     "name": "stdout",
     "output_type": "stream",
     "text": [
      "<class 'pandas.core.frame.DataFrame'>\n",
      "RangeIndex: 150 entries, 0 to 149\n",
      "Data columns (total 6 columns):\n",
      " #   Column     Non-Null Count  Dtype  \n",
      "---  ------     --------------  -----  \n",
      " 0   Id         150 non-null    int64  \n",
      " 1   Feature_1  150 non-null    float64\n",
      " 2   Feature_2  150 non-null    float64\n",
      " 3   Feature_3  150 non-null    float64\n",
      " 4   Feature_4  150 non-null    float64\n",
      " 5   target     150 non-null    object \n",
      "dtypes: float64(4), int64(1), object(1)\n",
      "memory usage: 7.2+ KB\n"
     ]
    }
   ],
   "source": [
    "#checking for null values\n",
    "df.info()"
   ]
  },
  {
   "cell_type": "markdown",
   "id": "36acac06",
   "metadata": {},
   "source": [
    "# there is no null values"
   ]
  },
  {
   "cell_type": "code",
   "execution_count": null,
   "id": "3d93e798",
   "metadata": {},
   "outputs": [],
   "source": []
  },
  {
   "cell_type": "markdown",
   "id": "9c457f18",
   "metadata": {},
   "source": [
    "# EDA"
   ]
  },
  {
   "cell_type": "code",
   "execution_count": 6,
   "id": "f387c719",
   "metadata": {},
   "outputs": [
    {
     "data": {
      "text/html": [
       "<div>\n",
       "<style scoped>\n",
       "    .dataframe tbody tr th:only-of-type {\n",
       "        vertical-align: middle;\n",
       "    }\n",
       "\n",
       "    .dataframe tbody tr th {\n",
       "        vertical-align: top;\n",
       "    }\n",
       "\n",
       "    .dataframe thead th {\n",
       "        text-align: right;\n",
       "    }\n",
       "</style>\n",
       "<table border=\"1\" class=\"dataframe\">\n",
       "  <thead>\n",
       "    <tr style=\"text-align: right;\">\n",
       "      <th></th>\n",
       "      <th>Id</th>\n",
       "      <th>Feature_1</th>\n",
       "      <th>Feature_2</th>\n",
       "      <th>Feature_3</th>\n",
       "      <th>Feature_4</th>\n",
       "    </tr>\n",
       "  </thead>\n",
       "  <tbody>\n",
       "    <tr>\n",
       "      <th>count</th>\n",
       "      <td>150.000000</td>\n",
       "      <td>150.000000</td>\n",
       "      <td>150.000000</td>\n",
       "      <td>150.000000</td>\n",
       "      <td>150.000000</td>\n",
       "    </tr>\n",
       "    <tr>\n",
       "      <th>mean</th>\n",
       "      <td>75.500000</td>\n",
       "      <td>5.843333</td>\n",
       "      <td>3.054000</td>\n",
       "      <td>3.758667</td>\n",
       "      <td>1.198667</td>\n",
       "    </tr>\n",
       "    <tr>\n",
       "      <th>std</th>\n",
       "      <td>43.445368</td>\n",
       "      <td>0.828066</td>\n",
       "      <td>0.433594</td>\n",
       "      <td>1.764420</td>\n",
       "      <td>0.763161</td>\n",
       "    </tr>\n",
       "    <tr>\n",
       "      <th>min</th>\n",
       "      <td>1.000000</td>\n",
       "      <td>4.300000</td>\n",
       "      <td>2.000000</td>\n",
       "      <td>1.000000</td>\n",
       "      <td>0.100000</td>\n",
       "    </tr>\n",
       "    <tr>\n",
       "      <th>25%</th>\n",
       "      <td>38.250000</td>\n",
       "      <td>5.100000</td>\n",
       "      <td>2.800000</td>\n",
       "      <td>1.600000</td>\n",
       "      <td>0.300000</td>\n",
       "    </tr>\n",
       "    <tr>\n",
       "      <th>50%</th>\n",
       "      <td>75.500000</td>\n",
       "      <td>5.800000</td>\n",
       "      <td>3.000000</td>\n",
       "      <td>4.350000</td>\n",
       "      <td>1.300000</td>\n",
       "    </tr>\n",
       "    <tr>\n",
       "      <th>75%</th>\n",
       "      <td>112.750000</td>\n",
       "      <td>6.400000</td>\n",
       "      <td>3.300000</td>\n",
       "      <td>5.100000</td>\n",
       "      <td>1.800000</td>\n",
       "    </tr>\n",
       "    <tr>\n",
       "      <th>max</th>\n",
       "      <td>150.000000</td>\n",
       "      <td>7.900000</td>\n",
       "      <td>4.400000</td>\n",
       "      <td>6.900000</td>\n",
       "      <td>2.500000</td>\n",
       "    </tr>\n",
       "  </tbody>\n",
       "</table>\n",
       "</div>"
      ],
      "text/plain": [
       "               Id   Feature_1   Feature_2   Feature_3   Feature_4\n",
       "count  150.000000  150.000000  150.000000  150.000000  150.000000\n",
       "mean    75.500000    5.843333    3.054000    3.758667    1.198667\n",
       "std     43.445368    0.828066    0.433594    1.764420    0.763161\n",
       "min      1.000000    4.300000    2.000000    1.000000    0.100000\n",
       "25%     38.250000    5.100000    2.800000    1.600000    0.300000\n",
       "50%     75.500000    5.800000    3.000000    4.350000    1.300000\n",
       "75%    112.750000    6.400000    3.300000    5.100000    1.800000\n",
       "max    150.000000    7.900000    4.400000    6.900000    2.500000"
      ]
     },
     "execution_count": 6,
     "metadata": {},
     "output_type": "execute_result"
    }
   ],
   "source": [
    "df.describe()"
   ]
  },
  {
   "cell_type": "code",
   "execution_count": 7,
   "id": "d36448e1",
   "metadata": {},
   "outputs": [
    {
     "data": {
      "text/plain": [
       "Index(['Id', 'Feature_1', 'Feature_2', 'Feature_3', 'Feature_4', 'target'], dtype='object')"
      ]
     },
     "execution_count": 7,
     "metadata": {},
     "output_type": "execute_result"
    }
   ],
   "source": [
    "df.columns"
   ]
  },
  {
   "cell_type": "code",
   "execution_count": 8,
   "id": "7fd44958",
   "metadata": {},
   "outputs": [
    {
     "data": {
      "image/png": "[encoded data removed]",
      "text/plain": [
       "<Figure size 432x432 with 3 Axes>"
      ]
     },
     "metadata": {
      "needs_background": "light"
     },
     "output_type": "display_data"
    },
    {
     "data": {
      "image/png": "[encoded data removed]",
      "text/plain": [
       "<Figure size 432x432 with 3 Axes>"
      ]
     },
     "metadata": {
      "needs_background": "light"
     },
     "output_type": "display_data"
    },
    {
     "data": {
      "image/png": "[encoded data removed]",
      "text/plain": [
       "<Figure size 432x432 with 3 Axes>"
      ]
     },
     "metadata": {
      "needs_background": "light"
     },
     "output_type": "display_data"
    },
    {
     "data": {
      "image/png": "[encoded data removed]",
      "text/plain": [
       "<Figure size 432x432 with 3 Axes>"
      ]
     },
     "metadata": {
      "needs_background": "light"
     },
     "output_type": "display_data"
    }
   ],
   "source": [
    "d1 = sns.jointplot(data=df, x='target', y='Feature_1')\n",
    "d2 = sns.jointplot(data=df, x='target', y='Feature_2')\n",
    "d3 = sns.jointplot(data=df, x='target', y='Feature_3')\n",
    "d4 = sns.jointplot(data=df, x='target', y='Feature_4')"
   ]
  },
  {
   "cell_type": "code",
   "execution_count": 9,
   "id": "2a198d49",
   "metadata": {},
   "outputs": [
    {
     "data": {
      "image/png": "[encoded data removed]",
      "text/plain": [
       "<Figure size 432x288 with 1 Axes>"
      ]
     },
     "metadata": {
      "needs_background": "light"
     },
     "output_type": "display_data"
    }
   ],
   "source": [
    "plt.title('target', fontsize=20)\n",
    "hist1 = sns.histplot(df.Feature_1)"
   ]
  },
  {
   "cell_type": "code",
   "execution_count": 10,
   "id": "41735054",
   "metadata": {},
   "outputs": [
    {
     "data": {
      "image/png": "[encoded data removed]",
      "text/plain": [
       "<Figure size 432x288 with 1 Axes>"
      ]
     },
     "metadata": {
      "needs_background": "light"
     },
     "output_type": "display_data"
    }
   ],
   "source": [
    "plt.title('target', fontsize=20)\n",
    "hist2 = sns.histplot(df.Feature_2)"
   ]
  },
  {
   "cell_type": "code",
   "execution_count": 11,
   "id": "769627f8",
   "metadata": {},
   "outputs": [
    {
     "data": {
      "image/png": "[encoded data removed]",
      "text/plain": [
       "<Figure size 432x288 with 1 Axes>"
      ]
     },
     "metadata": {
      "needs_background": "light"
     },
     "output_type": "display_data"
    }
   ],
   "source": [
    "plt.title('target', fontsize=20)\n",
    "hist3 = sns.histplot(df.Feature_3)"
   ]
  },
  {
   "cell_type": "code",
   "execution_count": 12,
   "id": "9b4de786",
   "metadata": {},
   "outputs": [
    {
     "data": {
      "image/png": "[encoded data removed]",
      "text/plain": [
       "<Figure size 432x288 with 1 Axes>"
      ]
     },
     "metadata": {
      "needs_background": "light"
     },
     "output_type": "display_data"
    }
   ],
   "source": [
    "plt.title('target', fontsize=20)\n",
    "hist4 = sns.histplot(df.Feature_4)"
   ]
  },
  {
   "cell_type": "code",
   "execution_count": 13,
   "id": "8c2488d3",
   "metadata": {},
   "outputs": [
    {
     "data": {
      "image/png": "[encoded data removed]",
      "text/plain": [
       "<Figure size 1440x720 with 1 Axes>"
      ]
     },
     "metadata": {
      "needs_background": "light"
     },
     "output_type": "display_data"
    }
   ],
   "source": [
    "df.plot(kind='box',figsize=(20,10))\n",
    "plt.show()"
   ]
  },
  {
   "cell_type": "code",
   "execution_count": 14,
   "id": "89451887",
   "metadata": {},
   "outputs": [
    {
     "data": {
      "image/png": "[encoded data removed]",
      "text/plain": [
       "<Figure size 648x360 with 2 Axes>"
      ]
     },
     "metadata": {},
     "output_type": "display_data"
    }
   ],
   "source": [
    "sns.set(rc={'figure.figsize':(9,5)})\n",
    "sns.heatmap(df.corr(),annot=True)\n",
    "plt.xticks(fontsize=12,color='k',fontweight='bold')\n",
    "plt.yticks(fontsize=12,color='k',fontweight='bold')\n",
    "plt.show()"
   ]
  },
  {
   "cell_type": "code",
   "execution_count": 15,
   "id": "8816f5d0",
   "metadata": {},
   "outputs": [
    {
     "data": {
      "text/html": [
       "<div>\n",
       "<style scoped>\n",
       "    .dataframe tbody tr th:only-of-type {\n",
       "        vertical-align: middle;\n",
       "    }\n",
       "\n",
       "    .dataframe tbody tr th {\n",
       "        vertical-align: top;\n",
       "    }\n",
       "\n",
       "    .dataframe thead th {\n",
       "        text-align: right;\n",
       "    }\n",
       "</style>\n",
       "<table border=\"1\" class=\"dataframe\">\n",
       "  <thead>\n",
       "    <tr style=\"text-align: right;\">\n",
       "      <th></th>\n",
       "      <th>Id</th>\n",
       "      <th>Feature_1</th>\n",
       "      <th>Feature_2</th>\n",
       "      <th>Feature_3</th>\n",
       "      <th>Feature_4</th>\n",
       "    </tr>\n",
       "  </thead>\n",
       "  <tbody>\n",
       "    <tr>\n",
       "      <th>Id</th>\n",
       "      <td>1.000000</td>\n",
       "      <td>0.716676</td>\n",
       "      <td>-0.397729</td>\n",
       "      <td>0.882747</td>\n",
       "      <td>0.899759</td>\n",
       "    </tr>\n",
       "    <tr>\n",
       "      <th>Feature_1</th>\n",
       "      <td>0.716676</td>\n",
       "      <td>1.000000</td>\n",
       "      <td>-0.109369</td>\n",
       "      <td>0.871754</td>\n",
       "      <td>0.817954</td>\n",
       "    </tr>\n",
       "    <tr>\n",
       "      <th>Feature_2</th>\n",
       "      <td>-0.397729</td>\n",
       "      <td>-0.109369</td>\n",
       "      <td>1.000000</td>\n",
       "      <td>-0.420516</td>\n",
       "      <td>-0.356544</td>\n",
       "    </tr>\n",
       "    <tr>\n",
       "      <th>Feature_3</th>\n",
       "      <td>0.882747</td>\n",
       "      <td>0.871754</td>\n",
       "      <td>-0.420516</td>\n",
       "      <td>1.000000</td>\n",
       "      <td>0.962757</td>\n",
       "    </tr>\n",
       "    <tr>\n",
       "      <th>Feature_4</th>\n",
       "      <td>0.899759</td>\n",
       "      <td>0.817954</td>\n",
       "      <td>-0.356544</td>\n",
       "      <td>0.962757</td>\n",
       "      <td>1.000000</td>\n",
       "    </tr>\n",
       "  </tbody>\n",
       "</table>\n",
       "</div>"
      ],
      "text/plain": [
       "                 Id  Feature_1  Feature_2  Feature_3  Feature_4\n",
       "Id         1.000000   0.716676  -0.397729   0.882747   0.899759\n",
       "Feature_1  0.716676   1.000000  -0.109369   0.871754   0.817954\n",
       "Feature_2 -0.397729  -0.109369   1.000000  -0.420516  -0.356544\n",
       "Feature_3  0.882747   0.871754  -0.420516   1.000000   0.962757\n",
       "Feature_4  0.899759   0.817954  -0.356544   0.962757   1.000000"
      ]
     },
     "execution_count": 15,
     "metadata": {},
     "output_type": "execute_result"
    }
   ],
   "source": [
    "df.corr()"
   ]
  },
  {
   "cell_type": "code",
   "execution_count": null,
   "id": "1063af14",
   "metadata": {},
   "outputs": [],
   "source": []
  },
  {
   "cell_type": "code",
   "execution_count": 16,
   "id": "ef2ca3ba",
   "metadata": {},
   "outputs": [],
   "source": [
    "#seperating X and y\n",
    "X = df.iloc[:,:-1].values\n",
    "y = df.iloc[:,-1].values"
   ]
  },
  {
   "cell_type": "code",
   "execution_count": 17,
   "id": "84a054b0",
   "metadata": {},
   "outputs": [],
   "source": [
    "from sklearn import tree"
   ]
  },
  {
   "cell_type": "code",
   "execution_count": 18,
   "id": "0e494a26",
   "metadata": {},
   "outputs": [],
   "source": [
    "from sklearn.tree import DecisionTreeClassifier\n",
    "clftree = tree.DecisionTreeClassifier(max_depth = 3)\n",
    "from sklearn.metrics import accuracy_score,f1_score,precision_score,recall_score\n",
    "from sklearn.model_selection import train_test_split,cross_val_score,RandomizedSearchCV"
   ]
  },
  {
   "cell_type": "code",
   "execution_count": null,
   "id": "5cf44a5d",
   "metadata": {},
   "outputs": [],
   "source": []
  },
  {
   "cell_type": "code",
   "execution_count": 19,
   "id": "60cfb55a",
   "metadata": {},
   "outputs": [],
   "source": [
    "#splitting into train and test 80:20\n",
    "X_train,X_test,y_train,y_test = train_test_split(X,y,test_size = 0.2,random_state = 0)"
   ]
  },
  {
   "cell_type": "code",
   "execution_count": 20,
   "id": "25b60122",
   "metadata": {},
   "outputs": [
    {
     "data": {
      "text/html": [
       "<div>\n",
       "<style scoped>\n",
       "    .dataframe tbody tr th:only-of-type {\n",
       "        vertical-align: middle;\n",
       "    }\n",
       "\n",
       "    .dataframe tbody tr th {\n",
       "        vertical-align: top;\n",
       "    }\n",
       "\n",
       "    .dataframe thead th {\n",
       "        text-align: right;\n",
       "    }\n",
       "</style>\n",
       "<table border=\"1\" class=\"dataframe\">\n",
       "  <thead>\n",
       "    <tr style=\"text-align: right;\">\n",
       "      <th></th>\n",
       "      <th>Id</th>\n",
       "      <th>Feature_1</th>\n",
       "      <th>Feature_2</th>\n",
       "      <th>Feature_3</th>\n",
       "      <th>Feature_4</th>\n",
       "    </tr>\n",
       "  </thead>\n",
       "  <tbody>\n",
       "    <tr>\n",
       "      <th>count</th>\n",
       "      <td>150.000000</td>\n",
       "      <td>150.000000</td>\n",
       "      <td>150.000000</td>\n",
       "      <td>150.000000</td>\n",
       "      <td>150.000000</td>\n",
       "    </tr>\n",
       "    <tr>\n",
       "      <th>mean</th>\n",
       "      <td>75.500000</td>\n",
       "      <td>5.843333</td>\n",
       "      <td>3.054000</td>\n",
       "      <td>3.758667</td>\n",
       "      <td>1.198667</td>\n",
       "    </tr>\n",
       "    <tr>\n",
       "      <th>std</th>\n",
       "      <td>43.445368</td>\n",
       "      <td>0.828066</td>\n",
       "      <td>0.433594</td>\n",
       "      <td>1.764420</td>\n",
       "      <td>0.763161</td>\n",
       "    </tr>\n",
       "    <tr>\n",
       "      <th>min</th>\n",
       "      <td>1.000000</td>\n",
       "      <td>4.300000</td>\n",
       "      <td>2.000000</td>\n",
       "      <td>1.000000</td>\n",
       "      <td>0.100000</td>\n",
       "    </tr>\n",
       "    <tr>\n",
       "      <th>25%</th>\n",
       "      <td>38.250000</td>\n",
       "      <td>5.100000</td>\n",
       "      <td>2.800000</td>\n",
       "      <td>1.600000</td>\n",
       "      <td>0.300000</td>\n",
       "    </tr>\n",
       "    <tr>\n",
       "      <th>50%</th>\n",
       "      <td>75.500000</td>\n",
       "      <td>5.800000</td>\n",
       "      <td>3.000000</td>\n",
       "      <td>4.350000</td>\n",
       "      <td>1.300000</td>\n",
       "    </tr>\n",
       "    <tr>\n",
       "      <th>75%</th>\n",
       "      <td>112.750000</td>\n",
       "      <td>6.400000</td>\n",
       "      <td>3.300000</td>\n",
       "      <td>5.100000</td>\n",
       "      <td>1.800000</td>\n",
       "    </tr>\n",
       "    <tr>\n",
       "      <th>max</th>\n",
       "      <td>150.000000</td>\n",
       "      <td>7.900000</td>\n",
       "      <td>4.400000</td>\n",
       "      <td>6.900000</td>\n",
       "      <td>2.500000</td>\n",
       "    </tr>\n",
       "  </tbody>\n",
       "</table>\n",
       "</div>"
      ],
      "text/plain": [
       "               Id   Feature_1   Feature_2   Feature_3   Feature_4\n",
       "count  150.000000  150.000000  150.000000  150.000000  150.000000\n",
       "mean    75.500000    5.843333    3.054000    3.758667    1.198667\n",
       "std     43.445368    0.828066    0.433594    1.764420    0.763161\n",
       "min      1.000000    4.300000    2.000000    1.000000    0.100000\n",
       "25%     38.250000    5.100000    2.800000    1.600000    0.300000\n",
       "50%     75.500000    5.800000    3.000000    4.350000    1.300000\n",
       "75%    112.750000    6.400000    3.300000    5.100000    1.800000\n",
       "max    150.000000    7.900000    4.400000    6.900000    2.500000"
      ]
     },
     "execution_count": 20,
     "metadata": {},
     "output_type": "execute_result"
    }
   ],
   "source": [
    "df.describe()"
   ]
  },
  {
   "cell_type": "code",
   "execution_count": null,
   "id": "e5f08dd7",
   "metadata": {},
   "outputs": [],
   "source": []
  },
  {
   "cell_type": "markdown",
   "id": "a803156d",
   "metadata": {},
   "source": [
    "# Normalizing"
   ]
  },
  {
   "cell_type": "code",
   "execution_count": 21,
   "id": "5c730800",
   "metadata": {},
   "outputs": [],
   "source": [
    "from sklearn.preprocessing import StandardScaler\n",
    "std=StandardScaler()"
   ]
  },
  {
   "cell_type": "code",
   "execution_count": 22,
   "id": "062455e0",
   "metadata": {},
   "outputs": [],
   "source": [
    "X_train_std=std.fit_transform(X_train)\n",
    "X_test_std=std.transform(X_test)"
   ]
  },
  {
   "cell_type": "code",
   "execution_count": 23,
   "id": "dc0b8d69",
   "metadata": {},
   "outputs": [
    {
     "data": {
      "text/plain": [
       "array([[ 1.34636602,  0.61303014,  0.10850105,  0.94751783,  0.73603967],\n",
       "       [ 0.16184701, -0.56776627, -0.12400121,  0.38491447,  0.34808318],\n",
       "       [-1.11206965, -0.80392556,  1.03851009, -1.30289562, -1.3330616 ],\n",
       "       [ 1.12287187,  0.25879121, -0.12400121,  0.60995581,  0.73603967],\n",
       "       [ 1.23461894,  0.61303014, -0.58900572,  1.00377816,  1.25331499],\n",
       "       [-0.39688836, -0.80392556, -0.82150798,  0.04735245,  0.21876435],\n",
       "       [-1.31321439, -0.21352735,  1.73601687, -1.19037495, -1.20374277],\n",
       "       [ 0.1394976 ,  0.14071157, -0.82150798,  0.72247648,  0.47740201],\n",
       "       [-0.35218953,  0.02263193, -0.12400121,  0.21613346,  0.34808318],\n",
       "       [ 0.34064234, -0.09544771, -1.05401024,  0.10361279, -0.03987331],\n",
       "       [ 0.78763064,  1.0853487 , -0.12400121,  0.94751783,  1.12399616],\n",
       "       [-1.67080503, -1.39432376,  0.34100331, -1.41541629, -1.3330616 ],\n",
       "       [ 1.43576368,  1.20342834,  0.10850105,  0.72247648,  1.38263382],\n",
       "       [-0.75447901, -1.04008484,  1.03851009, -1.24663528, -0.81578628],\n",
       "       [-1.49200971, -0.56776627,  1.50351461, -1.30289562, -1.3330616 ],\n",
       "       [-0.37453895, -1.04008484, -2.4490238 , -0.1776889 , -0.29851096],\n",
       "       [ 0.8770283 ,  0.73110978, -0.12400121,  0.94751783,  0.73603967],\n",
       "       [ 1.50281193,  0.96726906,  0.57350557,  1.0600385 ,  1.64127148],\n",
       "       [ 0.94407655,  0.14071157, -1.98401928,  0.66621615,  0.34808318],\n",
       "       [ 0.69823298,  0.96726906, -1.2865125 ,  1.11629884,  0.73603967],\n",
       "       [-0.17339421, -0.33160699, -1.2865125 ,  0.04735245, -0.16919214],\n",
       "       [ 1.30166719,  2.14806547, -0.12400121,  1.28507985,  1.38263382],\n",
       "       [-0.46393661,  0.49495049,  0.57350557,  0.49743514,  0.47740201],\n",
       "       [ 0.07244935, -0.44968663, -1.51901476, -0.00890789, -0.16919214],\n",
       "       [ 1.03347421,  0.49495049, -0.82150798,  0.60995581,  0.73603967],\n",
       "       [ 1.25696836,  0.49495049, -0.58900572,  0.72247648,  0.34808318],\n",
       "       [ 0.65353415, -1.15816448, -1.2865125 ,  0.38491447,  0.60672084],\n",
       "       [ 1.54751076,  0.49495049, -1.2865125 ,  0.66621615,  0.8653585 ],\n",
       "       [-0.5980331 ,  1.32150798,  0.34100331,  0.49743514,  0.21876435],\n",
       "       [ 1.56986017,  0.73110978, -0.12400121,  0.77873682,  0.99467733],\n",
       "       [ 0.18419643,  0.14071157,  0.80600783,  0.38491447,  0.47740201],\n",
       "       [-1.0450214 , -1.27624412,  0.10850105, -1.24663528, -1.3330616 ],\n",
       "       [ 0.54178707, -0.09544771, -0.82150798,  0.72247648,  0.8653585 ],\n",
       "       [ 0.38534117, -0.33160699, -0.82150798,  0.21613346,  0.08944552],\n",
       "       [-0.28514129, -0.33160699, -0.35650346, -0.12142856,  0.08944552],\n",
       "       [ 0.27359409, -0.44968663, -1.2865125 ,  0.10361279,  0.08944552],\n",
       "       [ 0.31829292,  0.25879121, -0.12400121,  0.4411748 ,  0.21876435],\n",
       "       [ 1.07817304,  1.55766726,  0.34100331,  1.22881951,  0.73603967],\n",
       "       [-0.64273193, -0.68584591,  1.50351461, -1.30289562, -1.3330616 ],\n",
       "       [-1.42496146, -1.86664232, -0.12400121, -1.52793696, -1.46238043],\n",
       "       [ 0.76528122,  0.61303014, -0.82150798,  0.83499716,  0.8653585 ],\n",
       "       [ 0.40769058, -0.21352735, -0.12400121,  0.21613346, -0.03987331],\n",
       "       [-1.26851556, -0.56776627,  0.80600783, -1.19037495, -1.3330616 ],\n",
       "       [-1.38026263, -0.21352735,  3.13103043, -1.30289562, -1.07442394],\n",
       "       [-0.55333427,  1.20342834,  0.10850105,  0.60995581,  0.34808318],\n",
       "       [-1.64845561, -1.5124034 ,  0.10850105, -1.30289562, -1.3330616 ],\n",
       "       [ 1.614559  ,  0.02263193, -0.12400121,  0.72247648,  0.73603967],\n",
       "       [ 0.47473883, -0.9220052 , -1.2865125 , -0.45899058, -0.16919214],\n",
       "       [-1.58140737, -1.5124034 ,  0.80600783, -1.35915595, -1.20374277],\n",
       "       [-0.19574363,  0.37687085, -1.98401928,  0.38491447,  0.34808318],\n",
       "       [ 0.72058239,  1.55766726,  1.27101235,  1.28507985,  1.64127148],\n",
       "       [ 0.43004   , -0.21352735, -0.35650346,  0.21613346,  0.08944552],\n",
       "       [-1.44731088, -1.27624412, -0.12400121, -1.35915595, -1.46238043],\n",
       "       [ 0.56413649,  1.43958762, -0.12400121,  1.17255917,  1.12399616],\n",
       "       [ 0.96642596,  1.20342834,  0.34100331,  1.0600385 ,  1.38263382],\n",
       "       [ 0.60883532,  0.73110978, -0.12400121,  1.11629884,  1.25331499],\n",
       "       [ 1.14522128,  0.61303014, -0.58900572,  1.00377816,  1.12399616],\n",
       "       [-0.68743076, -0.9220052 ,  1.73601687, -1.24663528, -1.3330616 ],\n",
       "       [-1.46966029, -1.27624412,  0.80600783, -1.24663528, -1.3330616 ],\n",
       "       [ 0.74293181,  0.73110978,  0.34100331,  0.72247648,  0.99467733],\n",
       "       [ 1.05582362,  0.96726906,  0.57350557,  1.0600385 ,  1.12399616],\n",
       "       [-0.79917784, -1.63048304, -1.75151702, -1.41541629, -1.20374277],\n",
       "       [ 1.59220959,  0.37687085,  0.80600783,  0.89125749,  1.38263382],\n",
       "       [-1.69315444, -1.15816448, -0.12400121, -1.35915595, -1.3330616 ],\n",
       "       [ 0.80998005, -0.21352735, -1.2865125 ,  0.66621615,  0.99467733],\n",
       "       [ 1.39106485,  1.20342834,  0.10850105,  0.89125749,  1.12399616],\n",
       "       [-0.77682842, -1.74856268,  0.34100331, -1.41541629, -1.3330616 ],\n",
       "       [-1.6261062 , -1.04008484,  1.27101235, -1.35915595, -1.3330616 ],\n",
       "       [ 1.1675707 ,  1.55766726, -0.12400121,  1.11629884,  0.47740201],\n",
       "       [-1.3355638 , -0.9220052 ,  1.03851009, -1.35915595, -1.20374277],\n",
       "       [-0.86622608, -1.74856268, -0.12400121, -1.41541629, -1.3330616 ],\n",
       "       [-1.60375678, -0.56776627,  1.96851913, -1.19037495, -1.07442394],\n",
       "       [-0.53098486, -0.44968663, -1.75151702,  0.10361279,  0.08944552],\n",
       "       [ 1.48046251,  1.0853487 ,  0.34100331,  1.17255917,  1.38263382],\n",
       "       [ 0.63118473,  2.02998583, -0.12400121,  1.56638153,  1.12399616],\n",
       "       [-1.71550386, -0.9220052 ,  1.03851009, -1.35915595, -1.3330616 ],\n",
       "       [-0.95562374, -1.15816448,  0.10850105, -1.30289562, -1.46238043],\n",
       "       [-1.08972023, -0.80392556,  0.80600783, -1.35915595, -1.3330616 ],\n",
       "       [-0.48628603, -0.21352735, -0.58900572,  0.38491447,  0.08944552],\n",
       "       [-0.03929772,  0.84918942, -0.12400121,  0.32865413,  0.21876435],\n",
       "       [-0.93327433, -1.04008484,  0.34100331, -1.47167663, -1.3330616 ],\n",
       "       [-1.20146731, -0.9220052 ,  0.57350557, -1.19037495, -0.94510511],\n",
       "       [-0.06164714,  0.61303014, -0.35650346,  0.27239379,  0.08944552],\n",
       "       [-1.02267199, -0.56776627,  0.80600783, -1.30289562, -1.07442394],\n",
       "       [ 0.92172713,  2.14806547, -1.05401024,  1.73516253,  1.38263382],\n",
       "       [-0.44158719, -1.15816448, -1.51901476, -0.29020957, -0.29851096],\n",
       "       [ 1.21226953,  2.38422475,  1.73601687,  1.45386085,  0.99467733],\n",
       "       [-0.26279187,  0.96726906,  0.10850105,  0.32865413,  0.21876435],\n",
       "       [-1.00032257, -0.80392556,  2.43352365, -1.30289562, -1.46238043],\n",
       "       [ 1.36871543,  0.14071157, -0.12400121,  0.55369548,  0.73603967],\n",
       "       [-1.40261205, -0.09544771,  2.20102139, -1.47167663, -1.3330616 ],\n",
       "       [ 1.01112479,  2.14806547, -0.58900572,  1.62264186,  0.99467733],\n",
       "       [-1.29086497, -0.9220052 ,  1.73601687, -1.30289562, -1.20374277],\n",
       "       [-1.06737082, -1.39432376,  0.34100331, -1.24663528, -1.3330616 ],\n",
       "       [ 1.18992011,  1.79382654, -0.58900572,  1.28507985,  0.8653585 ],\n",
       "       [-0.62038252, -1.04008484,  0.57350557, -1.35915595, -1.3330616 ],\n",
       "       [ 1.3240166 ,  0.49495049,  0.80600783,  1.00377816,  1.51195265],\n",
       "       [ 0.49708824, -0.21352735, -0.58900572,  0.15987312,  0.08944552],\n",
       "       [ 0.11714818, -0.09544771, -0.82150798,  0.04735245, -0.03987331],\n",
       "       [ 0.05009994, -0.21352735, -1.05401024, -0.1776889 , -0.29851096],\n",
       "       [ 0.85467889,  0.61303014,  0.34100331,  0.83499716,  1.38263382],\n",
       "       [ 1.52516134,  0.96726906, -0.12400121,  0.77873682,  1.38263382],\n",
       "       [-0.10634597,  0.49495049, -1.2865125 ,  0.60995581,  0.34808318],\n",
       "       [ 0.00540111,  0.96726906, -0.12400121,  0.66621615,  0.60672084],\n",
       "       [-1.15676848, -1.04008484, -0.12400121, -1.24663528, -1.3330616 ],\n",
       "       [ 0.09479877, -0.44968663, -1.51901476, -0.06516822, -0.29851096],\n",
       "       [ 1.41341426,  0.96726906,  0.10850105,  1.00377816,  1.51195265],\n",
       "       [ 1.45811309, -0.09544771, -0.82150798,  0.72247648,  0.8653585 ],\n",
       "       [-0.84387667, -0.9220052 ,  0.80600783, -1.30289562, -1.3330616 ],\n",
       "       [-0.41923778,  0.84918942, -0.35650346,  0.4411748 ,  0.08944552],\n",
       "       [ 0.25124468, -0.33160699, -0.12400121,  0.15987312,  0.08944552],\n",
       "       [-0.1510448 ,  0.02263193,  0.34100331,  0.55369548,  0.73603967],\n",
       "       [ 0.22889526,  0.49495049, -1.75151702,  0.32865413,  0.08944552],\n",
       "       [-0.91092491, -0.44968663,  1.03851009, -1.41541629, -1.3330616 ],\n",
       "       [-1.24616614, -0.9220052 ,  1.50351461, -1.30289562, -1.07442394],\n",
       "       [-1.51435912, -1.15816448,  0.10850105, -1.30289562, -1.46238043],\n",
       "       [ 0.5864859 ,  0.49495049, -0.35650346,  1.00377816,  0.73603967],\n",
       "       [-0.21809304, -0.09544771, -0.82150798,  0.15987312, -0.29851096],\n",
       "       [ 0.89937772,  2.14806547,  1.73601687,  1.62264186,  1.25331499],\n",
       "       [-0.66508135, -1.5124034 ,  0.34100331, -1.35915595, -1.3330616 ]])"
      ]
     },
     "execution_count": 23,
     "metadata": {},
     "output_type": "execute_result"
    }
   ],
   "source": [
    "X_train_std"
   ]
  },
  {
   "cell_type": "code",
   "execution_count": 24,
   "id": "d2ef1ac4",
   "metadata": {},
   "outputs": [
    {
     "data": {
      "text/plain": [
       "array([[ 0.83232947, -0.09544771, -0.58900572,  0.72247648,  1.51195265],\n",
       "       [-0.32984012,  0.14071157, -1.98401928,  0.10361279, -0.29851096],\n",
       "       [-0.97797316, -0.44968663,  2.66602591, -1.35915595, -1.3330616 ],\n",
       "       [ 0.67588356,  1.6757469 , -0.35650346,  1.39760052,  0.73603967],\n",
       "       [-1.55905795, -1.04008484,  0.80600783, -1.30289562, -1.3330616 ],\n",
       "       [ 0.51943766,  0.49495049,  0.57350557,  1.22881951,  1.64127148],\n",
       "       [-0.82152725, -1.04008484,  1.03851009, -1.41541629, -1.20374277],\n",
       "       [ 0.20654585,  0.96726906,  0.10850105,  0.49743514,  0.34808318],\n",
       "       [-0.01694831,  1.0853487 , -0.58900572,  0.55369548,  0.21876435],\n",
       "       [-0.12869538,  0.25879121, -0.58900572,  0.10361279,  0.08944552],\n",
       "       [ 1.27931777,  0.25879121, -1.05401024,  1.00377816,  0.21876435],\n",
       "       [-0.57568369,  0.61303014,  0.34100331,  0.38491447,  0.34808318],\n",
       "       [-0.08399655,  0.25879121, -0.58900572,  0.49743514, -0.03987331],\n",
       "       [-0.50863544,  0.73110978, -0.58900572,  0.4411748 ,  0.34808318],\n",
       "       [-0.3074907 ,  0.25879121, -0.35650346,  0.49743514,  0.21876435],\n",
       "       [-0.8885755 , -1.15816448,  0.10850105, -1.30289562, -1.46238043],\n",
       "       [ 0.02775052,  0.14071157, -0.35650346,  0.38491447,  0.34808318],\n",
       "       [ 0.29594351, -0.44968663, -1.05401024,  0.32865413, -0.03987331],\n",
       "       [-0.70978018, -1.27624412, -0.12400121, -1.35915595, -1.20374277],\n",
       "       [-1.35791322, -0.56776627,  1.96851913, -1.41541629, -1.07442394],\n",
       "       [ 0.98877538, -0.33160699, -0.58900572,  0.60995581,  0.99467733],\n",
       "       [-0.24044246, -0.33160699, -0.12400121,  0.38491447,  0.34808318],\n",
       "       [-1.1791179 , -1.27624412,  0.80600783, -1.07785427, -1.3330616 ],\n",
       "       [-1.53670854, -1.74856268, -0.35650346, -1.35915595, -1.3330616 ],\n",
       "       [ 1.10052245,  0.37687085, -0.58900572,  0.55369548,  0.73603967],\n",
       "       [-1.22381673, -1.5124034 ,  1.27101235, -1.5841973 , -1.3330616 ],\n",
       "       [-0.73212959, -0.9220052 ,  1.73601687, -1.07785427, -1.07442394],\n",
       "       [ 0.45238941,  0.37687085, -0.35650346,  0.27239379,  0.08944552],\n",
       "       [ 0.36299175, -1.04008484, -1.75151702, -0.29020957, -0.29851096],\n",
       "       [-1.13441907, -1.04008484,  0.80600783, -1.24663528, -1.07442394]])"
      ]
     },
     "execution_count": 24,
     "metadata": {},
     "output_type": "execute_result"
    }
   ],
   "source": [
    "X_test_std"
   ]
  },
  {
   "cell_type": "code",
   "execution_count": null,
   "id": "ba39262d",
   "metadata": {},
   "outputs": [],
   "source": []
  },
  {
   "cell_type": "markdown",
   "id": "53caaa05",
   "metadata": {},
   "source": [
    "# Model Building"
   ]
  },
  {
   "cell_type": "code",
   "execution_count": 25,
   "id": "4b5d1b45",
   "metadata": {},
   "outputs": [],
   "source": [
    "#initial model \n",
    "model = DecisionTreeClassifier(random_state=0)\n",
    "model.fit(X_train,y_train)\n",
    "y_pred = model.predict(X_test)"
   ]
  },
  {
   "cell_type": "code",
   "execution_count": 26,
   "id": "17e52a67",
   "metadata": {},
   "outputs": [
    {
     "data": {
      "text/plain": [
       "DecisionTreeClassifier(max_depth=3)"
      ]
     },
     "execution_count": 26,
     "metadata": {},
     "output_type": "execute_result"
    }
   ],
   "source": [
    "clftree.fit(X_train, y_train)"
   ]
  },
  {
   "cell_type": "code",
   "execution_count": 27,
   "id": "ac4225ff",
   "metadata": {},
   "outputs": [
    {
     "data": {
      "text/plain": [
       "0.9666666666666667"
      ]
     },
     "execution_count": 27,
     "metadata": {},
     "output_type": "execute_result"
    }
   ],
   "source": [
    "accuracy_score(y_test,y_pred)"
   ]
  },
  {
   "cell_type": "code",
   "execution_count": 28,
   "id": "c6afe027",
   "metadata": {},
   "outputs": [
    {
     "data": {
      "text/plain": [
       "0.9666666666666667"
      ]
     },
     "execution_count": 28,
     "metadata": {},
     "output_type": "execute_result"
    }
   ],
   "source": [
    "f1_score(y_test,y_pred, average='micro')"
   ]
  },
  {
   "cell_type": "code",
   "execution_count": 29,
   "id": "834fceaf",
   "metadata": {},
   "outputs": [
    {
     "data": {
      "text/plain": [
       "0.9666666666666667"
      ]
     },
     "execution_count": 29,
     "metadata": {},
     "output_type": "execute_result"
    }
   ],
   "source": [
    "precision_score(y_test,y_pred, average='micro')"
   ]
  },
  {
   "cell_type": "code",
   "execution_count": 30,
   "id": "b1da8c45",
   "metadata": {},
   "outputs": [
    {
     "data": {
      "text/plain": [
       "0.9666666666666667"
      ]
     },
     "execution_count": 30,
     "metadata": {},
     "output_type": "execute_result"
    }
   ],
   "source": [
    "recall_score(y_test,y_pred, average='micro')"
   ]
  },
  {
   "cell_type": "code",
   "execution_count": 31,
   "id": "3b75147a",
   "metadata": {},
   "outputs": [],
   "source": [
    "y_train_pred = clftree.predict(X_train)\n",
    "y_test_pred = clftree.predict(X_test)"
   ]
  },
  {
   "cell_type": "code",
   "execution_count": 32,
   "id": "4a63e033",
   "metadata": {},
   "outputs": [
    {
     "data": {
      "text/plain": [
       "array(['Class_3', 'Class_2', 'Class_1', 'Class_3', 'Class_1', 'Class_2',\n",
       "       'Class_1', 'Class_2', 'Class_2', 'Class_2', 'Class_3', 'Class_2',\n",
       "       'Class_2', 'Class_2', 'Class_2', 'Class_1', 'Class_2', 'Class_2',\n",
       "       'Class_1', 'Class_1', 'Class_3', 'Class_2', 'Class_1', 'Class_1',\n",
       "       'Class_3', 'Class_1', 'Class_1', 'Class_2', 'Class_2', 'Class_1'],\n",
       "      dtype=object)"
      ]
     },
     "execution_count": 32,
     "metadata": {},
     "output_type": "execute_result"
    }
   ],
   "source": [
    "y_test_pred"
   ]
  },
  {
   "cell_type": "code",
   "execution_count": null,
   "id": "16fdc311",
   "metadata": {},
   "outputs": [],
   "source": []
  },
  {
   "cell_type": "markdown",
   "id": "ad9b6769",
   "metadata": {},
   "source": [
    "# Model evaluation, confusion matrix"
   ]
  },
  {
   "cell_type": "code",
   "execution_count": 33,
   "id": "d1f4e0f9",
   "metadata": {},
   "outputs": [],
   "source": [
    "from sklearn.metrics import accuracy_score, confusion_matrix"
   ]
  },
  {
   "cell_type": "code",
   "execution_count": 34,
   "id": "df1d4d9d",
   "metadata": {},
   "outputs": [
    {
     "data": {
      "text/plain": [
       "array([[39,  0,  0],\n",
       "       [ 0, 37,  0],\n",
       "       [ 0,  0, 44]], dtype=int64)"
      ]
     },
     "execution_count": 34,
     "metadata": {},
     "output_type": "execute_result"
    }
   ],
   "source": [
    "confusion_matrix(y_train, y_train_pred)"
   ]
  },
  {
   "cell_type": "code",
   "execution_count": 35,
   "id": "2b80a323",
   "metadata": {},
   "outputs": [
    {
     "data": {
      "text/plain": [
       "array([[11,  0,  0],\n",
       "       [ 0, 13,  0],\n",
       "       [ 0,  1,  5]], dtype=int64)"
      ]
     },
     "execution_count": 35,
     "metadata": {},
     "output_type": "execute_result"
    }
   ],
   "source": [
    "confusion_matrix(y_test, y_test_pred)"
   ]
  },
  {
   "cell_type": "code",
   "execution_count": 36,
   "id": "13db5a1a",
   "metadata": {},
   "outputs": [
    {
     "data": {
      "text/plain": [
       "0.9666666666666667"
      ]
     },
     "execution_count": 36,
     "metadata": {},
     "output_type": "execute_result"
    }
   ],
   "source": [
    "accuracy_score(y_test, y_test_pred)"
   ]
  },
  {
   "cell_type": "code",
   "execution_count": null,
   "id": "5527c0ce",
   "metadata": {},
   "outputs": [],
   "source": []
  }
 ],
 "metadata": {
  "kernelspec": {
   "display_name": "Python 3 (ipykernel)",
   "language": "python",
   "name": "python3"
  },
  "language_info": {
   "codemirror_mode": {
    "name": "ipython",
    "version": 3
   },
   "file_extension": ".py",
   "mimetype": "text/x-python",
   "name": "python",
   "nbconvert_exporter": "python",
   "pygments_lexer": "ipython3",
   "version": "3.9.7"
  }
 },
 "nbformat": 4,
 "nbformat_minor": 5
}
